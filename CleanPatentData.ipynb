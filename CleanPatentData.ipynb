{
 "cells": [
  {
   "cell_type": "markdown",
   "metadata": {},
   "source": [
    "# __Clean Patent Data__\n",
    "This file will clean the patent data in preparation for merging with price data.\n",
    "\n",
    "The patent_cleaner, at one point, combines the values in three columns to produce a single 'name' column.  \n",
    "\n",
    "In a later notebook, I'll compare that 'name' column to a similar column in the prices dataset and hopefully be able to accurately combine all this information for further analysis."
   ]
  },
  {
   "cell_type": "code",
   "execution_count": 2,
   "metadata": {},
   "outputs": [],
   "source": [
    "import pandas as pd\n",
    "import re\n",
    "import matplotlib.pyplot as plt\n",
    "import seaborn as sns"
   ]
  },
  {
   "cell_type": "code",
   "execution_count": 32,
   "metadata": {},
   "outputs": [],
   "source": [
    "# Read in relevant files (the first 3 belong in a set)\n",
    "patent_data = pd.read_csv('data/patent_data.csv', index_col = False)"
   ]
  },
  {
   "cell_type": "code",
   "execution_count": 33,
   "metadata": {},
   "outputs": [],
   "source": [
    "def patent_cleaner(df):\n",
    "    # Split DF and Route information into different columns\n",
    "    df['dosage_form'] = df['DF;Route'].str.split(';').str[0]\n",
    "    df['route'] = df['DF;Route'].str.split(';').str[-1]\n",
    "\n",
    "    # Make all column headers lowercase\n",
    "    df.columns = map(str.lower, df.columns)\n",
    "\n",
    "    # Create an aggregate column from the all_data dataframe to match against the prices 'ndc description' dataframe with fuzzywuzzy's Levenshtein Distance generator\n",
    "    df['ndc_description_agg'] = df['trade_name'] + \" \" + df['strength'] + \" \" + df['route']\n",
    "    df.drop('df;route', axis=1).head()\n",
    "\n",
    "    #From here on, this modification means that these drugs were approved prior to Jan 1, 1982\n",
    "    df['approval_date'].replace('Approved Prior to Jan 1, 1982', 'Dec 31, 1981', inplace = True) \n",
    "    df['exclusivity_date'].replace('Approved Prior to Jan 1, 1982', 'Dec 31, 1981', inplace = True)\n",
    "    df['patent_expire_date_text'].replace('Approved Prior to Jan 1, 1982', 'Dec 31, 1981', inplace = True)\n",
    "    df['submission_date'].replace('Approved Prior to Jan 1, 1982', 'Dec 31, 1981', inplace = True)\n",
    "\n",
    "    # Convert the following columns to datetime format\n",
    "    df['approval_date'] = pd.to_datetime(df['approval_date']) #, format='%Y/%m/%d')\n",
    "    df['exclusivity_date'] = pd.to_datetime(df['exclusivity_date']) #, format='%Y/%m/%d')\n",
    "    df['patent_expire_date_text'] = pd.to_datetime(df['patent_expire_date_text']) #, format='%Y/%m/%d')\n",
    "    df['submission_date'] = pd.to_datetime(df['submission_date']) #, format='%Y/%m/%d')\n",
    "\n",
    "    return df.info()"
   ]
  },
  {
   "cell_type": "code",
   "execution_count": 34,
   "metadata": {},
   "outputs": [
    {
     "name": "stdout",
     "output_type": "stream",
     "text": [
      "<class 'pandas.core.frame.DataFrame'>\n",
      "RangeIndex: 59716 entries, 0 to 59715\n",
      "Data columns (total 29 columns):\n",
      "unnamed: 0                 59716 non-null int64\n",
      "ingredient                 59716 non-null object\n",
      "df;route                   59716 non-null object\n",
      "trade_name                 59716 non-null object\n",
      "applicant                  59716 non-null object\n",
      "strength                   59648 non-null object\n",
      "appl_type_x                59716 non-null object\n",
      "appl_no                    59716 non-null int64\n",
      "product_no                 59716 non-null int64\n",
      "te_code                    20659 non-null object\n",
      "approval_date              59716 non-null datetime64[ns]\n",
      "rld                        59716 non-null object\n",
      "rs                         59716 non-null object\n",
      "type                       59716 non-null object\n",
      "applicant_full_name        59716 non-null object\n",
      "appl_type_y                24230 non-null object\n",
      "patent_no                  24230 non-null object\n",
      "patent_expire_date_text    24230 non-null datetime64[ns]\n",
      "drug_substance_flag        5010 non-null object\n",
      "drug_product_flag          11689 non-null object\n",
      "patent_use_code            13789 non-null object\n",
      "delist_flag                86 non-null object\n",
      "submission_date            17324 non-null datetime64[ns]\n",
      "appl_type                  17087 non-null object\n",
      "exclusivity_code           17087 non-null object\n",
      "exclusivity_date           17087 non-null datetime64[ns]\n",
      "dosage_form                59716 non-null object\n",
      "route                      59716 non-null object\n",
      "ndc_description_agg        59648 non-null object\n",
      "dtypes: datetime64[ns](4), int64(3), object(22)\n",
      "memory usage: 13.2+ MB\n"
     ]
    }
   ],
   "source": [
    "patent_cleaner(patent_data)"
   ]
  },
  {
   "cell_type": "code",
   "execution_count": null,
   "metadata": {},
   "outputs": [],
   "source": [
    "# Visualize frequency of nulls in patent data\n",
    "sns.heatmap(Cleaned_Patent_Data.isnull(), cbar = False)"
   ]
  },
  {
   "cell_type": "code",
   "execution_count": 43,
   "metadata": {},
   "outputs": [],
   "source": [
    "# Export cleaned files\n",
    "patent_data.to_csv('data/Cleaned_Patent_Data.csv')"
   ]
  },
  {
   "cell_type": "code",
   "execution_count": null,
   "metadata": {},
   "outputs": [],
   "source": []
  }
 ],
 "metadata": {
  "kernelspec": {
   "display_name": "Python 3",
   "language": "python",
   "name": "python3"
  },
  "language_info": {
   "codemirror_mode": {
    "name": "ipython",
    "version": 3
   },
   "file_extension": ".py",
   "mimetype": "text/x-python",
   "name": "python",
   "nbconvert_exporter": "python",
   "pygments_lexer": "ipython3",
   "version": "3.7.3"
  }
 },
 "nbformat": 4,
 "nbformat_minor": 4
}
