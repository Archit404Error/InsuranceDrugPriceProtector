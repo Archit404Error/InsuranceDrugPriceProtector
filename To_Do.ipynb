{
 "cells": [
  {
   "cell_type": "markdown",
   "metadata": {},
   "source": [
    "# __Additional Ideas__"
   ]
  },
  {
   "cell_type": "markdown",
   "metadata": {},
   "source": [
    "The following are potential enhancements to be made once the minimum viable product has been delivered.  In the meantime, we'll keep a running list.\n",
    "\n",
    "To do: \n",
    "* Minimize the amount of data lost through the merging/feature engineering processes for further analysis\n",
    " * i.e. the loss of patent data before 2013 (or at least a more accurate reflection of that earlier patent)\n",
    "* Setup data downloads from aforementioned APIs\n",
    "* Introduce data via Dask from the very beginning (hopefully will improve merge times)\n",
    "* Alternative forms of regression\n",
    "* Go back and use more than the \"top 100 drugs\"\n",
    "* Analyze more closesly brand drugs with therapeutic equivalents\n",
    "\n",
    "Questions to answer (I'll expand on these as I continue to explore the dataset):\n",
    "* Correlation between variables (particularly drug prices and patent dates)\n",
    "* More analysis on generic vs. brand drug prices\n",
    "* Price by active ingredient (correlation & sorting)"
   ]
  },
  {
   "cell_type": "code",
   "execution_count": 3,
   "metadata": {},
   "outputs": [],
   "source": [
    "# Datepicker for the Bokeh app - allows the user to select any date they're interested in for prediction\n",
    "#(https://docs.bokeh.org/en/latest/docs/reference/models/widgets.inputs.html?highlight=calendar) - benefit: can add min_date = current\n",
    "# Or maybe just do text inputs (so that you don't have to deconstruct the datepicker date?)\n"
   ]
  },
  {
   "cell_type": "markdown",
   "metadata": {},
   "source": [
    "### __Gather Additional and More Diverse Data__\n",
    "The following datastreams may provide additional insight into the pricing of pharmaceutical drugs."
   ]
  },
  {
   "cell_type": "markdown",
   "metadata": {},
   "source": [
    "### __Import Company Merger Data__\n",
    "This data would be helpful in determining who owns which drugs (and how that changes over time).  This could, for example, tell us:\n",
    "* Whether companies with larger scales of operations could afford to price drugs at a lower rate in comparison to smaller companies\n",
    "* Whether certain companies are prone to pricing their drugs at higher/lower rates\n",
    "* To what degree companies mitigate risk through the purchasing of additional drugs (this point would require the combination of the stock/financial data below)."
   ]
  },
  {
   "cell_type": "code",
   "execution_count": 209,
   "metadata": {
    "collapsed": true,
    "jupyter": {
     "outputs_hidden": true
    }
   },
   "outputs": [
    {
     "data": {
      "text/plain": [
       "[     R  Year                              Purchaser  \\\n",
       " 0    1  1999                                 Pfizer   \n",
       " 1    2  2000                     Glaxo Wellcome Plc   \n",
       " 2    3  2019                   Bristol-Myers Squibb   \n",
       " 3    3  2004                                 Sanofi   \n",
       " 4    4  2015                                Actavis   \n",
       " 5    5  2009                                 Pfizer   \n",
       " 6    6  2002                                 Pfizer   \n",
       " 7    7  2018                  Takeda Pharmaceutical   \n",
       " 8    8  2016                                  Bayer   \n",
       " 9    9  2009                            Merck & Co.   \n",
       " 10  10  2009                                  Roche   \n",
       " 11  11  2014                              Medtronic   \n",
       " 12  12  2015         Teva Pharmaceutical Industries   \n",
       " 13  13  2010                               Novartis   \n",
       " 14  14  2016                                  Shire   \n",
       " 15  15  2016                    Abbott Laboratories   \n",
       " 16  16  1998                               Astra AB   \n",
       " 17  17  2017                      Johnson & Johnson   \n",
       " 18  18  1996                             Ciba-Geigy   \n",
       " 19  19  2006  Boston Scientific Abbott Laboratories   \n",
       " 20  20  1999                     Pharmacia & Upjohn   \n",
       " 21  21  2016                    Abbott Laboratories   \n",
       " 22  22  2015                                 AbbVie   \n",
       " 23  23  2014                                Actavis   \n",
       " 24  24  2011                                 Sanofi   \n",
       " 25  25  2012                      Johnson & Johnson   \n",
       " 26  26  2006                                  Bayer   \n",
       " 27  27  2016                              Quintiles   \n",
       " 28  28  2015                                 Pfizer   \n",
       " 29  29  2014                            Merck Group   \n",
       " 30  30  2001                                  Amgen   \n",
       " 31  31  2006                      Johnson & Johnson   \n",
       " 32  32  2014                               Novartis   \n",
       " 33  33  2015                                Valeant   \n",
       " 34  34  2007                            AstraZeneca   \n",
       " 35  35  2007                        Schering Plough   \n",
       " 36  36  1995                                  Glaxo   \n",
       " 37  37  2014                                  Bayer   \n",
       " 38  38  2014                            Zimmer Inc.   \n",
       " 39  39  2019                                  Amgen   \n",
       " 40  40  2006                            Merck Group   \n",
       " 41  41  2018                        GlaxoSmithKline   \n",
       " 42  42  2016                   Boehringer Ingelheim   \n",
       " 43  43  2017                        Gilead Sciences   \n",
       " 44  44  2018                                 Sanofi   \n",
       " 45  45  2011                        Gilead Sciences   \n",
       " 46  46  2013                                  Amgen   \n",
       " \n",
       "                                           Target  \\\n",
       " 0                                 Warner-Lambert   \n",
       " 1                             SmithKline Beecham   \n",
       " 2                                        Celgene   \n",
       " 3                                        Aventis   \n",
       " 4                                  Allergan, Inc   \n",
       " 5                                          Wyeth   \n",
       " 6                                      Pharmacia   \n",
       " 7                                          Shire   \n",
       " 8                                       Monsanto   \n",
       " 9                                Schering-Plough   \n",
       " 10                                     Genentech   \n",
       " 11                                      Covidien   \n",
       " 12                                       Actavis   \n",
       " 13                                         Alcon   \n",
       " 14                                       Baxalta   \n",
       " 15                               St Jude Medical   \n",
       " 16                                        Zeneca   \n",
       " 17                                      Actelion   \n",
       " 18                                        Sandoz   \n",
       " 19                                       Guidant   \n",
       " 20                                      Monsanto   \n",
       " 21                               St Jude Medical   \n",
       " 22                                 Pharmacyclics   \n",
       " 23                           Forest Laboratories   \n",
       " 24                           Genzyme Corporation   \n",
       " 25                                       Synthes   \n",
       " 26                                      Schering   \n",
       " 27                                    IMS Health   \n",
       " 28                                       Hospira   \n",
       " 29                                 Sigma-Aldrich   \n",
       " 30                                       Immunex   \n",
       " 31                        Pfizer Consumer Health   \n",
       " 32                      GlaxoSmithKline Oncology   \n",
       " 33                         Salix Pharmaceuticals   \n",
       " 34                                     MedImmune   \n",
       " 35                         Organon International   \n",
       " 36                                      Wellcome   \n",
       " 37                    Merck & Co Consumer Health   \n",
       " 38                                   Biomet Inc.   \n",
       " 39                       Otezla (drug programme)   \n",
       " 40                                        Serono   \n",
       " 41  GlaxoSmithKline–Novartis Consumer Healthcare   \n",
       " 42                 Sanofi Animal Health (Merial)   \n",
       " 43                                   Kite Pharma   \n",
       " 44                                    Bioverativ   \n",
       " 45                                    Pharmasset   \n",
       " 46                          Onyx Pharmaceuticals   \n",
       " \n",
       "                 Transaction type[1] Value — with debt (in billions USD)  \\\n",
       " 0                       Acquisition                               111.8   \n",
       " 1   Merger (formed GlaxoSmithKline)                                76.0   \n",
       " 2                       Acquisition                         74.0 — 95.0   \n",
       " 3                       Acquisition                                73.5   \n",
       " 4                       Acquisition                                70.5   \n",
       " 5                       Acquisition                                68.0   \n",
       " 6                       Acquisition                                64.3   \n",
       " 7                       Acquisition                                62.0   \n",
       " 8                       Acquisition                         54.5 — 63.5   \n",
       " 9                       Acquisition                                47.1   \n",
       " 10                      Acquisition                                44.0   \n",
       " 11                      Acquisition                                42.3   \n",
       " 12                    Business Unit                                40.5   \n",
       " 13                      Acquisition                                39.3   \n",
       " 14                 Acquisition Unit                         32.0 — 35.0   \n",
       " 15                      Acquisition                                30.5   \n",
       " 16      Merger (formed AstraZeneca)                                30.4   \n",
       " 17                      Acquisition                                30.0   \n",
       " 18         Merger (formed Novartis)                                29.0   \n",
       " 19                      Acquisition                                27.2   \n",
       " 20                           Merger                                25.2   \n",
       " 21                      Acquisition                         25.0 — 30.5   \n",
       " 22                      Acquisition                                21.0   \n",
       " 23                      Acquisition                                20.7   \n",
       " 24                      Acquisition                                20.1   \n",
       " 25                      Acquisition                                19.7   \n",
       " 26                      Acquisition                                18.4   \n",
       " 27     Merger (formed QuintilesIMS)                                17.6   \n",
       " 28                      Acquisition                                17.0   \n",
       " 29                      Acquisition                                17.0   \n",
       " 30                      Acquisition                                16.8   \n",
       " 31                    Business Unit                                16.6   \n",
       " 32                    Business Unit                                16.0   \n",
       " 33                      Acquisition                                15.8   \n",
       " 34                      Acquisition                                14.7   \n",
       " 35                      Acquisition                                14.5   \n",
       " 36                      Acquisition                                14.2   \n",
       " 37                    Business Unit                                14.2   \n",
       " 38                      Acquisition                                13.4   \n",
       " 39                      Acquisition                                13.4   \n",
       " 40                      Acquisition                                13.2   \n",
       " 41                      Acquisition                                13.0   \n",
       " 42                    Business Unit                                12.4   \n",
       " 43                      Acquisition                                11.9   \n",
       " 44                      Acquisition                                11.6   \n",
       " 45                      Acquisition                                11.2   \n",
       " 46                      Acquisition                                10.4   \n",
       " \n",
       "    Value — with debt (adjusted for inflation)        Ref  \n",
       " 0                                         168        [2]  \n",
       " 1                                         111        NaN  \n",
       " 2                                     74 — 95        [3]  \n",
       " 3                                          86        NaN  \n",
       " 4                                          75  [4][5][6]  \n",
       " 5                                          79        NaN  \n",
       " 6                                          90        [7]  \n",
       " 7                                          62        [8]  \n",
       " 8                                     57 — 66        NaN  \n",
       " 9                                          55        [9]  \n",
       " 10                                         51        NaN  \n",
       " 11                                         45        NaN  \n",
       " 12                                         43        NaN  \n",
       " 13                                         45        NaN  \n",
       " 14                                    33 — 37        NaN  \n",
       " 15                                         32        NaN  \n",
       " 16                                         47        NaN  \n",
       " 17                                         31        NaN  \n",
       " 18                                         46        NaN  \n",
       " 19                                         34        NaN  \n",
       " 20                                         38        NaN  \n",
       " 21                                    26 — 32        NaN  \n",
       " 22                                         22        NaN  \n",
       " 23                                         22        NaN  \n",
       " 24                                         22        NaN  \n",
       " 25                                         21        NaN  \n",
       " 26                                         23        NaN  \n",
       " 27                                         18        NaN  \n",
       " 28                                         18        NaN  \n",
       " 29                                         18        NaN  \n",
       " 30                                         24        NaN  \n",
       " 31                                         21        NaN  \n",
       " 32                                         17        NaN  \n",
       " 33                                         17        NaN  \n",
       " 34                                         18        NaN  \n",
       " 35                                         18        NaN  \n",
       " 36                                         23        NaN  \n",
       " 37                                         15        NaN  \n",
       " 38                                         14        NaN  \n",
       " 39                                         13        NaN  \n",
       " 40                                         16        NaN  \n",
       " 41                                         13        NaN  \n",
       " 42                                         13        NaN  \n",
       " 43                                         12        NaN  \n",
       " 44                                         12        NaN  \n",
       " 45                                         12        NaN  \n",
       " 46                                         11        NaN  ,\n",
       "     Rank  Year                       Purchaser                 Target  \\\n",
       " 0      1  2015                          Pfizer          Allergan, Plc   \n",
       " 1      2  2014                          Pfizer           Astra Zeneca   \n",
       " 2      3  2014                          Pfizer           Astra Zeneca   \n",
       " 3      4  2014                          Pfizer           Astra Zeneca   \n",
       " 4      5  1999                          Pfizer         Warner–Lambert   \n",
       " 5      6  1999                           Wyeth         Warner–Lambert   \n",
       " 6      7  1999                           Wyeth         Warner–Lambert   \n",
       " 7      8  2016                        Bayer AG  Monsanto Company Inc.   \n",
       " 8      9  2018           Takeda Pharmaceutical                  Shire   \n",
       " 9     10  2016                        Bayer AG  Monsanto Company Inc.   \n",
       " 10    11  2018           Takeda Pharmaceutical                  Shire   \n",
       " 11    12  2018           Takeda Pharmaceutical                  Shire   \n",
       " 12    13  2014         Valeant Pharmaceuticals          Allergan, Inc   \n",
       " 13    14  2014                          AbbVie  Shire Pharmaceuticals   \n",
       " 14    15  2014         Valeant Pharmaceuticals          Allergan, Inc   \n",
       " 15    16  2014         Valeant Pharmaceuticals          Allergan, Inc   \n",
       " 16    17  2015           Monsanto Company Inc.            Syngenta AG   \n",
       " 17    18  2014           Monsanto Company Inc.            Syngenta AG   \n",
       " 18    19  2014         Valeant Pharmaceuticals          Allergan, Inc   \n",
       " 19    20  2014           Monsanto Company Inc.            Syngenta AG   \n",
       " 20    21  2015  Teva Pharmaceutical Industries                  Mylan   \n",
       " 21    22  2015                           Mylan                Perrigo   \n",
       " 22    23  2004               Johnson & Johnson                Guidant   \n",
       " 23    24  2006               Boston Scientific                Guidant   \n",
       " 24    25  2005               Boston Scientific                Guidant   \n",
       " 25    26  2006               Johnson & Johnson                Guidant   \n",
       " 26    27  2006               Johnson & Johnson                Guidant   \n",
       " 27    28  2015          Endo International plc  Salix Pharmaceuticals   \n",
       " \n",
       "     Value(in billions USD)  Value(adjusted for inflation)  \\\n",
       " 0                    160.0                            169   \n",
       " 1                    123.0                            130   \n",
       " 2                    106.0                            113   \n",
       " 3                     99.0                            105   \n",
       " 4                     82.4                            124   \n",
       " 5                     72.0                            108   \n",
       " 6                     65.0                             98   \n",
       " 7                     65.0                             68   \n",
       " 8                     62.5                             63   \n",
       " 9                     62.0                             65   \n",
       " 10                    61.0                             61   \n",
       " 11                    58.2                             58   \n",
       " 12                    54.0                             57   \n",
       " 13                    54.0                             57   \n",
       " 14                    53.3                             56   \n",
       " 15                    49.4                             52   \n",
       " 16                    47.0                             49   \n",
       " 17                    45.0                             48   \n",
       " 18                    45.0                             48   \n",
       " 19                    40.0                             42   \n",
       " 20                    40.0                             42   \n",
       " 21                    26.0                             27   \n",
       " 22                    25.4                             34   \n",
       " 23                    25.0                             31   \n",
       " 24                    24.6                             32   \n",
       " 25                    24.2                             30   \n",
       " 26                    23.2                             29   \n",
       " 27                    11.2                             12   \n",
       " \n",
       "                                            Unnamed: 6  \n",
       " 0   In November 2015 Pfizer announced it would acq...  \n",
       " 1   Significant concerns were raised by the UK Gov...  \n",
       " 2   AstraZenca claimed the deal undervalued the co...  \n",
       " 3   AstraZenca claimed the deal undervalued the co...  \n",
       " 4   Pfizer made a hostile bid, just after the anno...  \n",
       " 5   Wyeth confirmed it has agreed a $200 billion d...  \n",
       " 6   The two companies discussed a potential merger...  \n",
       " 7   Bayer advanced talks with Monsanto's managemen...  \n",
       " 8   Third bid, unanimously rejected by the Shire B...  \n",
       " 9   Bayer initially opened negotiations with an of...  \n",
       " 10  Second bid, unanimously rejected by the Shire ...  \n",
       " 11  First bid, unanimously rejected by the Shire B...  \n",
       " 12  Valeant had pursued Botox-maker Allergan for s...  \n",
       " 13  The two companies had agreed to a $54 billion ...  \n",
       " 14  Valeant raised its unsolicited offer for Aller...  \n",
       " 15  Valeant raised its unsolicited offer for Aller...  \n",
       " 16  Monsanto dropped its hostile bid for Syngenta,...  \n",
       " 17  Syngenta rejecteded another unsolicited offer ...  \n",
       " 18  Valeant Pharmaceuticals and activist investor ...  \n",
       " 19  Monsanto weighed $40 billion unsolicited bid f...  \n",
       " 20  In April, Teva offered to acquire Mylan for $4...  \n",
       " 21  In order for the hostile takeover to go throug...  \n",
       " 22  Johnson & Johnson announced that it was acquir...  \n",
       " 23  A day after Johnson & Johnson raised their pri...  \n",
       " 24  With the lower re-negotiated a lower price of ...  \n",
       " 25  After Boston Scientific increased their offer ...  \n",
       " 26  After the re-negotiated a lower price of $21.5...  \n",
       " 27  Endo withdrew its $11.2 billion cash & stock o...  ]"
      ]
     },
     "execution_count": 209,
     "metadata": {},
     "output_type": "execute_result"
    }
   ],
   "source": [
    "# Import wikipedia tables of largest (all?) pharmaceutical mergers and acquisitions (to fix list above)\n",
    "tables = pd.read_html('https://en.wikipedia.org/wiki/List_of_largest_pharmaceutical_mergers_and_acquisitions', match = '-')\n",
    "# tables = tables.drop(0, 1)\n",
    "# tables = pd.DataFrame(tables)\n",
    "tables\n",
    "\n",
    "# companies_df = pd.DataFrame({less_soup)\n",
    "# companies_df\n",
    "\n",
    "# df = pd.DataFrame(soup)\n",
    "# df"
   ]
  },
  {
   "cell_type": "code",
   "execution_count": 45,
   "metadata": {},
   "outputs": [],
   "source": [
    "# Save/Export patent data\n",
    "all_patent_data.to_csv('data/All_Pattent_Data.csv')"
   ]
  },
  {
   "cell_type": "markdown",
   "metadata": {},
   "source": [
    "### __Import DAILYMED Data__\n",
    "* Source: National Library of Medicine\n",
    "* Additional drug information that may better tie together the existing datasets\n",
    "* May provide greater insight into brand vs. generic drugs"
   ]
  },
  {
   "cell_type": "code",
   "execution_count": null,
   "metadata": {},
   "outputs": [],
   "source": [
    "import requests\n",
    "import json\n",
    "from pandas.io.json import json_normalize\n",
    "r = requests.get('https://dailymed.nlm.nih.gov/dailymed/services/v2/ndcs.json'\n",
    "nested = json.loads(r.content)\n",
    "nested_full = json_normalize(nested)\n",
    "application_numbers = pd.DataFrame(nested_full)\n",
    "application_numbers"
   ]
  },
  {
   "cell_type": "markdown",
   "metadata": {},
   "source": [
    "### __Import Stock/Financial Data__\n",
    "Financial & stock statements from pharmaceutical companies could be beneficial in determining if:\n",
    "   * Drug price is inversely related to pharmaceutical stock prices (particularly to those of the drug's parent company)\n",
    "   * Whether quarterly reports have an effect on drug prices\n",
    "   \n",
    "This data would be much more useful if combined with the merger information above for reasons listed there."
   ]
  },
  {
   "cell_type": "code",
   "execution_count": null,
   "metadata": {},
   "outputs": [],
   "source": [
    "import pandas as pd\n",
    "from iexfinance.stocks import Stock, get_historical_data\n",
    "from datetime import datetime\n",
    "\n",
    "API_KEY = 'sk_5b8c1e31285f4f0abfa68758217e718d'\n",
    "\n",
    "start = datetime(2019, 1, 1)\n",
    "end = datetime.today()\n",
    "df = get_historical_data(companyName='Amgen', start, end, close_only = True, output_format = 'pandas', token = API_KEY)\n",
    "\n",
    "print(len(df))\n",
    "print(df.tail())"
   ]
  },
  {
   "cell_type": "code",
   "execution_count": null,
   "metadata": {},
   "outputs": [],
   "source": [
    "import matplotlib.pyplot as plt\n",
    "# fig = plt.figure(figsize = (14, 10))\n",
    "df[['open', 'high', 'low', 'close']].plot()\n",
    "plt.show()"
   ]
  },
  {
   "cell_type": "markdown",
   "metadata": {},
   "source": [
    "### __SGD Regression__\n",
    "\n",
    "Not currently functioning (find better hyperparameters)"
   ]
  },
  {
   "cell_type": "code",
   "execution_count": null,
   "metadata": {},
   "outputs": [],
   "source": [
    "from sklearn import base\n",
    "import numpy as np \n",
    "\n",
    "def pipeline_factory():\n",
    "    from sklearn.pipeline import Pipeline\n",
    "    from sklearn.linear_model import SGDRegressor\n",
    "    from sklearn.model_selection import GridSearchCV\n",
    "\n",
    "    return Pipeline([\n",
    "                     ('gcv', GridSearchCV(\n",
    "                         ('sgd_reg', SGDRegressor())\n",
    "                         , param_grid, cv = 5, refit = True))])\n",
    "\n",
    "param_grid = {\n",
    "    'sgd_reg__alpha' : [10.0**-np.arange(1,7)],\n",
    "    'sgd_reg__max_iter' : [np.ceil(10**6/200000)],\n",
    "#     'ridge__alpha' : [0.001, 0.01, 0.1, 1, 3]\n",
    "}\n",
    "\n",
    "groups = GroupbyEstimator('ndc', pipeline_factory)\n",
    "sgd_model = groups.fit(train_data,'nadac_per_unit')"
   ]
  },
  {
   "cell_type": "code",
   "execution_count": null,
   "metadata": {},
   "outputs": [],
   "source": [
    "results = sgd_model.predict(test_data)\n",
    "predictions = [x[1][0] for x in results]\n",
    "actual = test_data.iloc[:,0]\n",
    "from sklearn.metrics import explained_variance_score, max_error, mean_absolute_error, mean_squared_error, mean_squared_log_error, median_absolute_error, r2_score \n",
    "\n",
    "scoring_methods = [explained_variance_score, # 1-(Var(predicted-true)/Var(true)); equal to R2 if mean(error) == 0 (e.g. true == 0)\n",
    "                   max_error,                # captures the worst case error(residual) between the predicted value and the true value\n",
    "                   mean_absolute_error,      # average of (the absolute value of) all residuals; less sensitive to outliers; lower is better\n",
    "                   mean_squared_error,       # penalty for making more predictions varying from the actual value; more sensitive to outliers\n",
    "                   mean_squared_log_error,   # treats small differences between small true and predicted differences the same as big differences between large true and predicted values\n",
    "                   median_absolute_error,    # Robust (insensitive) to outliers\n",
    "                   r2_score                  # The proportion of variance of the dependent variable that has been explained by the independent variables\n",
    "                  ]\n",
    "\n",
    "for method in scoring_methods:\n",
    "    try: \n",
    "        score = method(actual, predictions)\n",
    "        print(method, ': ', score)\n",
    "    except ValueError:\n",
    "        pass"
   ]
  },
  {
   "cell_type": "markdown",
   "metadata": {},
   "source": [
    "### __Minimizing data lost from patent data prior to 2013__\n",
    "\n",
    "2013 was the earliest year for prices.  Therefore, in the 'MergingAllData' notebook, patent information prior to 2013 was dropped."
   ]
  },
  {
   "cell_type": "code",
   "execution_count": null,
   "metadata": {},
   "outputs": [],
   "source": [
    "# *****Here's a non-working example of what could be done****\n",
    "\n",
    "def f(g):\n",
    "    min_approval_date = g['approval_date'] #oldest approval date for each drug (may have many due to extensions)       \n",
    "\n",
    "    if (g['patent_expire_date_text'].isnull()) & (g['classification_for_rate_setting'] == 'G'):\n",
    "        g['patent_expire_date_text'].isnull == min_approval_date\n",
    "        return g\n",
    "    else:\n",
    "        return g\n",
    "                \n",
    "group = Price_Patent_Data.groupby(['ndc', 'effective_date'])\n",
    "group.apply(lambda x: x)\n",
    "                                         \n",
    "#     if ((g['Class'].isin(['Meadow'])) & (g['SP_Percent'] >=20)).any():\n",
    "#         g['Class'].loc[g['Class'].isin(['MTGP'])] = 'WMTGP'\n",
    "#         return g\n",
    "#     else:\n",
    "#         return g\n",
    "\n",
    "#     # Replace the expiry dates for generic drugs as the minimum effective_date (the earliest date for which I have prices)\n",
    "#     mask = (Price_Patent_Data.patent_expire_date_text.isnull()) & (Price_Patent_Data.classification_for_rate_setting == 'G')\n",
    "#     Price_Patent_Data['patent_expire_date_text'].mask(cond = mask, other = min_approval_date, inplace = True, try_cast = True)"
   ]
  },
  {
   "cell_type": "markdown",
   "metadata": {},
   "source": [
    "## __PROBLEM:  How do I get names to match up better__\n",
    "Both datasets have several instances of the same name.  How do I make sure that they match up properly?\n",
    "* Drop all data from patents except most recent, so the dataframe is composed only of unique values, then merge on those?\n",
    "* Match on multiple columns between both datasets (probably on date column, but the date frequency will need to be identical for this to be effective)"
   ]
  },
  {
   "cell_type": "markdown",
   "metadata": {},
   "source": [
    "*A lot of the work in the following section was actually done above in the section entitled 'Deleting Old Patent Data'.  However, it was addressed from a different perspective. Therefore, I'm leaving this section in 'just in case' I may want to consider it in the future.*"
   ]
  },
  {
   "cell_type": "code",
   "execution_count": null,
   "metadata": {},
   "outputs": [],
   "source": [
    "# Clean up ndc_description_agg (index) - apparently it didn't get completely fixed\n",
    "import re\n",
    "warning = re.compile('\\s\\*\\*.*\\*\\*\\s')\n",
    "Cleaned_Patent_Data.index = Cleaned_Patent_Data.index.str.replace(warning, '')"
   ]
  },
  {
   "cell_type": "code",
   "execution_count": null,
   "metadata": {},
   "outputs": [],
   "source": [
    "Cleaned_Patent_Data = Cleaned_Patent_Data.drop_duplicates(keep = 'first')\n",
    "len(Cleaned_Patent_Data)"
   ]
  },
  {
   "cell_type": "code",
   "execution_count": null,
   "metadata": {},
   "outputs": [],
   "source": [
    "Cleaned_Patent_Data['approval_date'] = pd.to_datetime(Cleaned_Patent_Data['approval_date'])\n",
    "Cleaned_Patent_Data['patent_expire_date_text'] = pd.to_datetime(Cleaned_Patent_Data['patent_expire_date_text'])\n",
    "Cleaned_Patent_Data['submission_date'] = pd.to_datetime(Cleaned_Patent_Data['submission_date'])\n",
    "Cleaned_Patent_Data['exclusivity_date'] = pd.to_datetime(Cleaned_Patent_Data['exclusivity_date'])"
   ]
  },
  {
   "cell_type": "code",
   "execution_count": null,
   "metadata": {},
   "outputs": [],
   "source": [
    "unique_patent_names = Cleaned_Patent_Data.index.unique()"
   ]
  },
  {
   "cell_type": "code",
   "execution_count": null,
   "metadata": {},
   "outputs": [],
   "source": [
    "# Keep only the most recent data (> patent_expire_date_text) for each unique drug\n",
    "# unique_patent_names = Cleaned_Patent_Data['ndc_description_agg'].unique()\n",
    "Cleaned_Patent_Data.reset_index()\n",
    "Cleaned_Patent_Data = Cleaned_Patent_Data.sort_values(['patent_expire_date_text', 'ndc_description_agg'], ascending = [True, False])"
   ]
  },
  {
   "cell_type": "code",
   "execution_count": null,
   "metadata": {},
   "outputs": [],
   "source": [
    "Cleaned_Price_Data.info() #patent_names doesn't show up because it's the index"
   ]
  },
  {
   "cell_type": "markdown",
   "metadata": {},
   "source": [
    "### __Add ndc_description names to patent_names column if patent_names is blank__\n",
    "This will allow us to make sure we have a column that doesn't miss any name matches\n",
    "\n",
    "\n",
    "**Note:** This section has not been updated to work with the new all_effective_dates dataframe (and should be before use)"
   ]
  },
  {
   "cell_type": "code",
   "execution_count": null,
   "metadata": {},
   "outputs": [],
   "source": [
    "Cleaned_Price_Data.loc[Cleaned_Price_Data['patent_names'] == '', 'patent_names'] = Cleaned_Price_Data['ndc_description']\n",
    "Cleaned_Price_Data['patent_names'].isnull().value_counts(dropna = False)"
   ]
  },
  {
   "cell_type": "code",
   "execution_count": null,
   "metadata": {},
   "outputs": [],
   "source": [
    "Cleaned_Price_Data.head(10)"
   ]
  },
  {
   "cell_type": "code",
   "execution_count": null,
   "metadata": {},
   "outputs": [],
   "source": [
    "# Improve the crossover illustrated here, in the future (i.e. one drug name has 'ORAL' and the other has 'TABLET', but it's the same drug)\n",
    "Cleaned_Price_Data[Cleaned_Price_Data['ndc_description'] != Cleaned_Price_Data['patent_names']]"
   ]
  }
 ],
 "metadata": {
  "kernelspec": {
   "display_name": "Python 3",
   "language": "python",
   "name": "python3"
  },
  "language_info": {
   "codemirror_mode": {
    "name": "ipython",
    "version": 3
   },
   "file_extension": ".py",
   "mimetype": "text/x-python",
   "name": "python",
   "nbconvert_exporter": "python",
   "pygments_lexer": "ipython3",
   "version": "3.7.3"
  }
 },
 "nbformat": 4,
 "nbformat_minor": 4
}
