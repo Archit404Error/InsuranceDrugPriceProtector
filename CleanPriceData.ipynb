{
 "cells": [
  {
   "cell_type": "markdown",
   "metadata": {},
   "source": [
    "# __Clean Price Data__"
   ]
  },
  {
   "cell_type": "code",
   "execution_count": 1,
   "metadata": {},
   "outputs": [],
   "source": [
    "# Import price data here\n",
    "import pandas as pd\n",
    "import dill\n",
    "import matplotlib.pyplot as plt\n",
    "import seaborn as sns"
   ]
  },
  {
   "cell_type": "code",
   "execution_count": 2,
   "metadata": {},
   "outputs": [],
   "source": [
    "prices = pd.read_csv('data/NADAC_Current_Data.csv')\n",
    "# prices.head()"
   ]
  },
  {
   "cell_type": "markdown",
   "metadata": {},
   "source": [
    "### __Datetime conversions__\n",
    "* Reduce space & allows for calculations\n",
    "* Takes a long time.  Determine faster way to get this done."
   ]
  },
  {
   "cell_type": "code",
   "execution_count": 4,
   "metadata": {},
   "outputs": [
    {
     "name": "stdout",
     "output_type": "stream",
     "text": [
      "Wall time: 32min 25s\n"
     ]
    }
   ],
   "source": [
    "# Convert Effective_Date column to datetime format (takes about 32 minutes 25 seconds)\n",
    "prices['effective_date'] = pd.to_datetime(prices['effective_date'], infer_datetime_format = True) #, format='%Y/%m/%d')\n",
    "prices['as_of_date'] = pd.to_datetime(prices['as_of_date'], infer_datetime_format = True) #, format='%Y/%m/%d')"
   ]
  },
  {
   "cell_type": "code",
   "execution_count": 11,
   "metadata": {},
   "outputs": [
    {
     "data": {
      "text/plain": [
       "2018    1323204\n",
       "2017    1273904\n",
       "2016    1257914\n",
       "2015    1222646\n",
       "2014    1199249\n",
       "2019     856327\n",
       "2013     214199\n",
       "Name: effective_date, dtype: int64"
      ]
     },
     "execution_count": 11,
     "metadata": {},
     "output_type": "execute_result"
    }
   ],
   "source": [
    "# Check the spread of the 'effective_date' column data\n",
    "prices['effective_date'].dt.year.value_counts()"
   ]
  },
  {
   "cell_type": "code",
   "execution_count": 16,
   "metadata": {},
   "outputs": [
    {
     "data": {
      "text/plain": [
       "2018    1296863\n",
       "2017    1281151\n",
       "2016    1250949\n",
       "2015    1222702\n",
       "2014    1213307\n",
       "2019     972080\n",
       "2013     110391\n",
       "Name: as_of_date, dtype: int64"
      ]
     },
     "execution_count": 16,
     "metadata": {},
     "output_type": "execute_result"
    }
   ],
   "source": [
    "# Check the spread of the 'as_of_date' column data\n",
    "prices['as_of_date'].dt.year.value_counts()"
   ]
  },
  {
   "cell_type": "markdown",
   "metadata": {},
   "source": [
    "### __Cleaning Up Drug Names__\n",
    "The drug names in both datasets are not standardized, and as we'll be matching observations up based on the drug names, it's imperative that they be cleaned well."
   ]
  },
  {
   "cell_type": "code",
   "execution_count": 43,
   "metadata": {},
   "outputs": [],
   "source": [
    "#Checking for time improvement here over next cell below\n",
    "import re\n",
    "replacements = {r'\\sCAP*?\\Z|\\sCP*?\\Z' : ' CAPSULE',\n",
    "                r'\\sTAB\\sCHW\\s*?\\Z|\\sTAB\\sCHEW\\s*?\\Z': ' CHEWABLE TABLET', \n",
    "                r'\\sTAB\\Z|\\sTAB\\s|\\sTB' : ' TABLET', \n",
    "                r'\\sSYR*?\\Z' : ' SYRINGE', \n",
    "                r'\\sCRM*?\\Z' : ' CREAM', \n",
    "                r'\\sSL*?\\Z' : ' SUB-LINGUAL', \n",
    "                r'\\sFOAM*?\\Z' : ' FOAM', \n",
    "                r'\\sAUTO\\-INJ*?\\Z' : ' INJECTION', \n",
    "                r'\\sEFF*?\\Z' : ' EFFERVESCENT', \n",
    "                r'\\sSOLN*?\\Z' : ' SOLUTION', \n",
    "                r'\\sINH*?\\Z' : ' INHALATION', \n",
    "                r'\\sHCL\\s*?\\Z' : ' HYDROCHLORIDE',\n",
    "                r'\\sCPLT*?\\Z' : ' CAPLET',\n",
    "                r'\\sGASTR\\s*?\\Z' : ' GASTRIC',\n",
    "                r'\\sOSM\\s*?\\Z' : ' OSMOTIC',\n",
    "                r'\\sLIQ*?\\Z' : ' LIQUID',\n",
    "                '\\s\\*\\*.*\\*\\*\\s' : '',\n",
    "                ' MG' : 'MG',\n",
    "                ' ML' : 'ML',\n",
    "                ' MCG' : 'MCG',\n",
    "                ' +': ' '\n",
    "               }\n",
    "\n",
    "for pat, repl in replacements.items():\n",
    "    pat = re.compile(pat)\n",
    "    prices['ndc_description'] = prices['ndc_description'].str.replace(pat, repl)"
   ]
  },
  {
   "cell_type": "code",
   "execution_count": null,
   "metadata": {},
   "outputs": [],
   "source": [
    "# Visualize frequency of nulls in price data\n",
    "sns.heatmap(Cleaned_Price_Data.isnull(), cbar = False)"
   ]
  },
  {
   "cell_type": "code",
   "execution_count": 45,
   "metadata": {},
   "outputs": [],
   "source": [
    "# Export to file\n",
    "prices.to_csv('data/Cleaned_Price_Data.csv')"
   ]
  },
  {
   "cell_type": "code",
   "execution_count": null,
   "metadata": {},
   "outputs": [],
   "source": []
  }
 ],
 "metadata": {
  "kernelspec": {
   "display_name": "Python 3",
   "language": "python",
   "name": "python3"
  },
  "language_info": {
   "codemirror_mode": {
    "name": "ipython",
    "version": 3
   },
   "file_extension": ".py",
   "mimetype": "text/x-python",
   "name": "python",
   "nbconvert_exporter": "python",
   "pygments_lexer": "ipython3",
   "version": "3.7.3"
  }
 },
 "nbformat": 4,
 "nbformat_minor": 4
}
