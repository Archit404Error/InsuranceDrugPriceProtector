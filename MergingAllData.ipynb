{
 "cells": [
  {
   "cell_type": "markdown",
   "metadata": {},
   "source": [
    "# __Merging Price & Patent Data__\n",
    "\n",
    "* Cleaned_Price_Data - containing the drug name comparison information, and price information\n",
    "* Cleaned_Patent_Data - containing product, patent, and exclusivity data\n",
    "\n",
    "This file will merge these two datasets, and further clean/prep them for analysis. "
   ]
  },
  {
   "cell_type": "code",
   "execution_count": 1,
   "metadata": {},
   "outputs": [],
   "source": [
    "import pandas as pd\n",
    "import fuzzywuzzy as fuzzy #We'll use this library to measure Levenshtein distance of drug names for matching\n",
    "import datetime as dt"
   ]
  },
  {
   "cell_type": "code",
   "execution_count": 2,
   "metadata": {},
   "outputs": [],
   "source": [
    "# Reading in the data\n",
    "Cleaned_Price_Data = pd.read_csv('data/Cleaned_Price_Data.csv')"
   ]
  },
  {
   "cell_type": "code",
   "execution_count": 3,
   "metadata": {},
   "outputs": [],
   "source": [
    "Cleaned_Patent_Data = pd.read_csv('data/Cleaned_Patent_Data.csv')"
   ]
  },
  {
   "cell_type": "code",
   "execution_count": 4,
   "metadata": {},
   "outputs": [],
   "source": [
    "# Drop old index columns\n",
    "def drop_unnamed(df):\n",
    "    for col in df.columns:\n",
    "        if ('unnamed' in col) or ('Unnamed' in col):\n",
    "            df.drop(col, axis = 1, inplace = True)\n",
    "            \n",
    "drop_unnamed(Cleaned_Price_Data)           \n",
    "drop_unnamed(Cleaned_Patent_Data)           "
   ]
  },
  {
   "cell_type": "code",
   "execution_count": 5,
   "metadata": {},
   "outputs": [],
   "source": [
    "# Set Price date-types\n",
    "Cleaned_Price_Data['effective_date'] = pd.to_datetime(Cleaned_Price_Data['effective_date'], errors = 'coerce', box = True)\n",
    "Cleaned_Price_Data['as_of_date'] = pd.to_datetime(Cleaned_Price_Data['as_of_date'], errors = 'coerce')"
   ]
  },
  {
   "cell_type": "code",
   "execution_count": 6,
   "metadata": {},
   "outputs": [],
   "source": [
    "# And Patent date-types\n",
    "Cleaned_Patent_Data['approval_date'] = pd.to_datetime(Cleaned_Patent_Data['approval_date'], errors = 'coerce')"
   ]
  },
  {
   "cell_type": "code",
   "execution_count": 7,
   "metadata": {},
   "outputs": [],
   "source": [
    "# Sort dates\n",
    "Cleaned_Price_Data = Cleaned_Price_Data.sort_values(by = ['ndc'])"
   ]
  },
  {
   "cell_type": "markdown",
   "metadata": {},
   "source": [
    "### __Apply the row-adding function to the whole dataset__\n",
    "Medicaid has stated that price data is measured on (roughly) a weekly basis.  The FDA's patent data does not follow that same schedule.  \n",
    "\n",
    "Consequently, in order to merge the datasets by not only name but also by date, we'll need to add an observation (row) for each day so that I can properly match up drugs and dates in the prices dataset with those in the patent dataset.  The dates we're interested are: \n",
    "\n",
    "   * `effective_date` - the day the price is given\n",
    "   * `approval_date` - the day the patent is approved"
   ]
  },
  {
   "cell_type": "code",
   "execution_count": null,
   "metadata": {},
   "outputs": [],
   "source": [
    "# Adds rows for all missing (daily) dates to each drug (by ndc)\n",
    "def expand_dates(ser):\n",
    "    return pd.DataFrame({'effective_date': pd.date_range(ser['effective_date'].min(), ser['effective_date'].max(), freq='D')})\n",
    "\n",
    "price_cols = list(Cleaned_Price_Data.columns)\n",
    "\n",
    "all_effective_dates = Cleaned_Price_Data.groupby(['ndc']).apply(expand_dates).reset_index().merge(Cleaned_Price_Data, how = 'left')[price_cols].ffill()\n",
    "all_effective_dates.drop_duplicates(inplace = True)\n",
    "\n",
    "len(all_effective_dates)"
   ]
  },
  {
   "cell_type": "code",
   "execution_count": null,
   "metadata": {},
   "outputs": [],
   "source": [
    "# Pickle data\n",
    "import dill\n",
    "dill.dump(all_effective_dates, open('temp_all_effective_dates.pkd', 'wb'))"
   ]
  },
  {
   "cell_type": "code",
   "execution_count": 33,
   "metadata": {},
   "outputs": [],
   "source": [
    "# Unpickle data\n",
    "import dill\n",
    "all_effective_dates = dill.load(open('data/temp_all_effective_dates.pkd', 'rb'))\n",
    "# del Cleaned_Price_Data # replaced by all_effective_dates"
   ]
  },
  {
   "cell_type": "markdown",
   "metadata": {},
   "source": [
    "### __Drop duplicates and as_of_date column in price data__"
   ]
  },
  {
   "cell_type": "code",
   "execution_count": 34,
   "metadata": {},
   "outputs": [
    {
     "data": {
      "text/plain": [
       "50241500"
      ]
     },
     "execution_count": 34,
     "metadata": {},
     "output_type": "execute_result"
    }
   ],
   "source": [
    "# as_of_date column is unneeded and solicited duplicate information (i.e. observations/rows for which we already have a date for each drug)\n",
    "all_effective_dates.drop('as_of_date', inplace = True, axis = 1)\n",
    "all_effective_dates.drop_duplicates(inplace = True)\n",
    "len(all_effective_dates)"
   ]
  },
  {
   "cell_type": "markdown",
   "metadata": {},
   "source": [
    "### __Start fuzzy matching process__\n",
    "Create unique lists of ndc_description and ndc_description_agg.  Use fuzzy matching on those two lists to create a dictionary, then merge on the dictionary"
   ]
  },
  {
   "cell_type": "code",
   "execution_count": null,
   "metadata": {},
   "outputs": [],
   "source": [
    "#Get a list of unique values in each column\n",
    "ndc_description = list(all_effective_dates['ndc_description'].unique())\n",
    "ndc_description_agg = list(Cleaned_Patent_Data['ndc_description_agg'].unique())"
   ]
  },
  {
   "cell_type": "code",
   "execution_count": null,
   "metadata": {},
   "outputs": [],
   "source": [
    "print(' Unique drugs in ndc_description: ', len(ndc_description),\n",
    "      '\\n', 'Unique drugs in ndc_description_agg:', len(ndc_description_agg))"
   ]
  },
  {
   "cell_type": "code",
   "execution_count": null,
   "metadata": {},
   "outputs": [],
   "source": [
    "from fuzzywuzzy import fuzz\n",
    "from fuzzywuzzy import process\n",
    "from collections import defaultdict\n",
    "\n",
    "name_matches = {}\n",
    "for price_name in ndc_description:\n",
    "    for patent_name in ndc_description_agg:\n",
    "        score = fuzz.token_sort_ratio(price_name, patent_name)\n",
    "        if score > 85:\n",
    "            name_matches[price_name] = patent_name\n",
    "        else:\n",
    "            continue\n",
    "len(name_matches) #Format: {price_names : patent_names}"
   ]
  },
  {
   "cell_type": "markdown",
   "metadata": {},
   "source": [
    "### __Un/pickle Data Here__"
   ]
  },
  {
   "cell_type": "code",
   "execution_count": null,
   "metadata": {},
   "outputs": [],
   "source": [
    "# Pickle name-matching dictionary (took about 18 hours to create matches) - with the length being exactly 500, I'm skeptical it's complete...\n",
    "import dill\n",
    "dill.dump(name_matches, open('data/drug_name_matches.pkd', 'wb'))"
   ]
  },
  {
   "cell_type": "code",
   "execution_count": 11,
   "metadata": {},
   "outputs": [],
   "source": [
    "# Unpickle name-matching dictionary\n",
    "import dill\n",
    "name_matches = dill.load(open('data/drug_name_matches.pkd', 'rb'))\n",
    "# name_matches"
   ]
  },
  {
   "cell_type": "markdown",
   "metadata": {},
   "source": [
    "### __Map the name_matches dictionary to price dataframe__\n",
    "\n",
    "This preps the price data so that it has a common column to merge with the patent data.\n",
    "\n",
    "Also, doing a bit more preliminary work before merging..."
   ]
  },
  {
   "cell_type": "code",
   "execution_count": 35,
   "metadata": {},
   "outputs": [],
   "source": [
    "# Sort by ndc (and thus patent_names), and effective_date\n",
    "all_effective_dates = all_effective_dates.sort_values(by = ['ndc', 'effective_date'])"
   ]
  },
  {
   "cell_type": "code",
   "execution_count": 36,
   "metadata": {},
   "outputs": [],
   "source": [
    "#Match up names in Price column with names in dictionary derived from fuzzy name matching\n",
    "all_effective_dates['patent_names'] = all_effective_dates['ndc_description'].map(name_matches)"
   ]
  },
  {
   "cell_type": "code",
   "execution_count": 37,
   "metadata": {},
   "outputs": [],
   "source": [
    "# Convert all blanks to Nulls\n",
    "all_effective_dates[all_effective_dates['patent_names'] == ''] = None"
   ]
  },
  {
   "cell_type": "code",
   "execution_count": 38,
   "metadata": {},
   "outputs": [
    {
     "data": {
      "text/plain": [
       "True     43495182\n",
       "False     6746318\n",
       "Name: patent_names, dtype: int64"
      ]
     },
     "execution_count": 38,
     "metadata": {},
     "output_type": "execute_result"
    }
   ],
   "source": [
    "# Count nulls in patent_name column\n",
    "all_effective_dates['patent_names'].isnull().value_counts(dropna = False)"
   ]
  },
  {
   "cell_type": "code",
   "execution_count": 42,
   "metadata": {},
   "outputs": [],
   "source": [
    "all_effective_dates.update(all_effective_dates.groupby('ndc')['patent_names'].fillna(method = 'bfill', axis = 0, inplace = True)) #forward fill names --> apparently didn't do anything..."
   ]
  },
  {
   "cell_type": "code",
   "execution_count": 44,
   "metadata": {},
   "outputs": [],
   "source": [
    "# Pickle data\n",
    "import dill\n",
    "dill.dump(all_effective_dates, open('temp_all_effective_dates.pkd', 'wb'))"
   ]
  },
  {
   "cell_type": "code",
   "execution_count": 45,
   "metadata": {},
   "outputs": [
    {
     "data": {
      "text/plain": [
       "False    6746318\n",
       "Name: patent_names, dtype: int64"
      ]
     },
     "execution_count": 45,
     "metadata": {},
     "output_type": "execute_result"
    }
   ],
   "source": [
    "# Drop rows without patent_names value (basically rows with dates only)\n",
    "import numpy as np\n",
    "all_effective_dates.dropna(subset = ['patent_names'], inplace = True, axis = 0)\n",
    "all_effective_dates['patent_names'].isnull().value_counts(dropna = False)"
   ]
  },
  {
   "cell_type": "markdown",
   "metadata": {},
   "source": [
    "### __Set indexes to improve merging__"
   ]
  },
  {
   "cell_type": "code",
   "execution_count": 46,
   "metadata": {},
   "outputs": [],
   "source": [
    "# Price data index\n",
    "all_effective_dates.set_index('patent_names', inplace = True)\n",
    "\n",
    "# Patent data index\n",
    "Cleaned_Patent_Data.set_index('ndc_description_agg', inplace = True)\n",
    "Cleaned_Patent_Data.index.names = ['patent_names'] #set the name of the index"
   ]
  },
  {
   "cell_type": "markdown",
   "metadata": {},
   "source": [
    "## __Merge Datasets__\n",
    "\n",
    "It's important that the merge occur on two columns (the drug name and date columns of each dataset).  These two columns form a unique 'key' for the merge, without which, Pandas may not merge the patent information to the correct `effective_date`.\n",
    "\n",
    "We'll merge left because we want to keep all price data and just add in patent data where applicable as patent information (an independent variable) is of no value without price data (our dependent variable). "
   ]
  },
  {
   "cell_type": "code",
   "execution_count": 47,
   "metadata": {},
   "outputs": [
    {
     "data": {
      "text/html": [
       "<div>\n",
       "<style scoped>\n",
       "    .dataframe tbody tr th:only-of-type {\n",
       "        vertical-align: middle;\n",
       "    }\n",
       "\n",
       "    .dataframe tbody tr th {\n",
       "        vertical-align: top;\n",
       "    }\n",
       "\n",
       "    .dataframe thead th {\n",
       "        text-align: right;\n",
       "    }\n",
       "</style>\n",
       "<table border=\"1\" class=\"dataframe\">\n",
       "  <thead>\n",
       "    <tr style=\"text-align: right;\">\n",
       "      <th></th>\n",
       "      <th>key_0</th>\n",
       "      <th>classification_for_rate_setting</th>\n",
       "      <th>corresponding_generic_drug_effective_date</th>\n",
       "      <th>corresponding_generic_drug_nadac_per_unit</th>\n",
       "      <th>effective_date</th>\n",
       "      <th>explanation_code</th>\n",
       "      <th>nadac_per_unit</th>\n",
       "      <th>ndc</th>\n",
       "      <th>ndc_description</th>\n",
       "      <th>otc</th>\n",
       "      <th>...</th>\n",
       "      <th>drug_substance_flag</th>\n",
       "      <th>drug_product_flag</th>\n",
       "      <th>patent_use_code</th>\n",
       "      <th>delist_flag</th>\n",
       "      <th>submission_date</th>\n",
       "      <th>appl_type</th>\n",
       "      <th>exclusivity_code</th>\n",
       "      <th>exclusivity_date</th>\n",
       "      <th>dosage_form</th>\n",
       "      <th>route</th>\n",
       "    </tr>\n",
       "  </thead>\n",
       "  <tbody>\n",
       "    <tr>\n",
       "      <th>0</th>\n",
       "      <td>CALCITRIOL 0.25MCG ORAL</td>\n",
       "      <td>G</td>\n",
       "      <td>01/21/2015 12:00:00 AM</td>\n",
       "      <td>191.425</td>\n",
       "      <td>2013-11-21</td>\n",
       "      <td>1</td>\n",
       "      <td>0.55611</td>\n",
       "      <td>54000713.0</td>\n",
       "      <td>CALCITRIOL 0.25MCG CAPSULE</td>\n",
       "      <td>N</td>\n",
       "      <td>...</td>\n",
       "      <td>NaN</td>\n",
       "      <td>NaN</td>\n",
       "      <td>NaN</td>\n",
       "      <td>NaN</td>\n",
       "      <td>NaN</td>\n",
       "      <td>NaN</td>\n",
       "      <td>NaN</td>\n",
       "      <td>NaN</td>\n",
       "      <td>NaN</td>\n",
       "      <td>NaN</td>\n",
       "    </tr>\n",
       "    <tr>\n",
       "      <th>1</th>\n",
       "      <td>CALCITRIOL 0.25MCG ORAL</td>\n",
       "      <td>G</td>\n",
       "      <td>01/21/2015 12:00:00 AM</td>\n",
       "      <td>191.425</td>\n",
       "      <td>2013-11-22</td>\n",
       "      <td>1</td>\n",
       "      <td>0.55611</td>\n",
       "      <td>54000713.0</td>\n",
       "      <td>CALCITRIOL 0.25MCG CAPSULE</td>\n",
       "      <td>N</td>\n",
       "      <td>...</td>\n",
       "      <td>NaN</td>\n",
       "      <td>NaN</td>\n",
       "      <td>NaN</td>\n",
       "      <td>NaN</td>\n",
       "      <td>NaN</td>\n",
       "      <td>NaN</td>\n",
       "      <td>NaN</td>\n",
       "      <td>NaN</td>\n",
       "      <td>NaN</td>\n",
       "      <td>NaN</td>\n",
       "    </tr>\n",
       "    <tr>\n",
       "      <th>2</th>\n",
       "      <td>CALCITRIOL 0.25MCG ORAL</td>\n",
       "      <td>G</td>\n",
       "      <td>01/21/2015 12:00:00 AM</td>\n",
       "      <td>191.425</td>\n",
       "      <td>2013-11-23</td>\n",
       "      <td>1</td>\n",
       "      <td>0.55611</td>\n",
       "      <td>54000713.0</td>\n",
       "      <td>CALCITRIOL 0.25MCG CAPSULE</td>\n",
       "      <td>N</td>\n",
       "      <td>...</td>\n",
       "      <td>NaN</td>\n",
       "      <td>NaN</td>\n",
       "      <td>NaN</td>\n",
       "      <td>NaN</td>\n",
       "      <td>NaN</td>\n",
       "      <td>NaN</td>\n",
       "      <td>NaN</td>\n",
       "      <td>NaN</td>\n",
       "      <td>NaN</td>\n",
       "      <td>NaN</td>\n",
       "    </tr>\n",
       "    <tr>\n",
       "      <th>3</th>\n",
       "      <td>CALCITRIOL 0.25MCG ORAL</td>\n",
       "      <td>G</td>\n",
       "      <td>01/21/2015 12:00:00 AM</td>\n",
       "      <td>191.425</td>\n",
       "      <td>2013-11-24</td>\n",
       "      <td>1</td>\n",
       "      <td>0.55611</td>\n",
       "      <td>54000713.0</td>\n",
       "      <td>CALCITRIOL 0.25MCG CAPSULE</td>\n",
       "      <td>N</td>\n",
       "      <td>...</td>\n",
       "      <td>NaN</td>\n",
       "      <td>NaN</td>\n",
       "      <td>NaN</td>\n",
       "      <td>NaN</td>\n",
       "      <td>NaN</td>\n",
       "      <td>NaN</td>\n",
       "      <td>NaN</td>\n",
       "      <td>NaN</td>\n",
       "      <td>NaN</td>\n",
       "      <td>NaN</td>\n",
       "    </tr>\n",
       "    <tr>\n",
       "      <th>4</th>\n",
       "      <td>CALCITRIOL 0.25MCG ORAL</td>\n",
       "      <td>G</td>\n",
       "      <td>01/21/2015 12:00:00 AM</td>\n",
       "      <td>191.425</td>\n",
       "      <td>2013-11-25</td>\n",
       "      <td>1</td>\n",
       "      <td>0.55611</td>\n",
       "      <td>54000713.0</td>\n",
       "      <td>CALCITRIOL 0.25MCG CAPSULE</td>\n",
       "      <td>N</td>\n",
       "      <td>...</td>\n",
       "      <td>NaN</td>\n",
       "      <td>NaN</td>\n",
       "      <td>NaN</td>\n",
       "      <td>NaN</td>\n",
       "      <td>NaN</td>\n",
       "      <td>NaN</td>\n",
       "      <td>NaN</td>\n",
       "      <td>NaN</td>\n",
       "      <td>NaN</td>\n",
       "      <td>NaN</td>\n",
       "    </tr>\n",
       "  </tbody>\n",
       "</table>\n",
       "<p>5 rows × 39 columns</p>\n",
       "</div>"
      ],
      "text/plain": [
       "                     key_0 classification_for_rate_setting  \\\n",
       "0  CALCITRIOL 0.25MCG ORAL                               G   \n",
       "1  CALCITRIOL 0.25MCG ORAL                               G   \n",
       "2  CALCITRIOL 0.25MCG ORAL                               G   \n",
       "3  CALCITRIOL 0.25MCG ORAL                               G   \n",
       "4  CALCITRIOL 0.25MCG ORAL                               G   \n",
       "\n",
       "  corresponding_generic_drug_effective_date  \\\n",
       "0                    01/21/2015 12:00:00 AM   \n",
       "1                    01/21/2015 12:00:00 AM   \n",
       "2                    01/21/2015 12:00:00 AM   \n",
       "3                    01/21/2015 12:00:00 AM   \n",
       "4                    01/21/2015 12:00:00 AM   \n",
       "\n",
       "   corresponding_generic_drug_nadac_per_unit effective_date explanation_code  \\\n",
       "0                                    191.425     2013-11-21                1   \n",
       "1                                    191.425     2013-11-22                1   \n",
       "2                                    191.425     2013-11-23                1   \n",
       "3                                    191.425     2013-11-24                1   \n",
       "4                                    191.425     2013-11-25                1   \n",
       "\n",
       "   nadac_per_unit         ndc             ndc_description otc  ...  \\\n",
       "0         0.55611  54000713.0  CALCITRIOL 0.25MCG CAPSULE   N  ...   \n",
       "1         0.55611  54000713.0  CALCITRIOL 0.25MCG CAPSULE   N  ...   \n",
       "2         0.55611  54000713.0  CALCITRIOL 0.25MCG CAPSULE   N  ...   \n",
       "3         0.55611  54000713.0  CALCITRIOL 0.25MCG CAPSULE   N  ...   \n",
       "4         0.55611  54000713.0  CALCITRIOL 0.25MCG CAPSULE   N  ...   \n",
       "\n",
       "  drug_substance_flag drug_product_flag patent_use_code delist_flag  \\\n",
       "0                 NaN               NaN             NaN         NaN   \n",
       "1                 NaN               NaN             NaN         NaN   \n",
       "2                 NaN               NaN             NaN         NaN   \n",
       "3                 NaN               NaN             NaN         NaN   \n",
       "4                 NaN               NaN             NaN         NaN   \n",
       "\n",
       "  submission_date appl_type exclusivity_code exclusivity_date  dosage_form  \\\n",
       "0             NaN       NaN              NaN              NaN          NaN   \n",
       "1             NaN       NaN              NaN              NaN          NaN   \n",
       "2             NaN       NaN              NaN              NaN          NaN   \n",
       "3             NaN       NaN              NaN              NaN          NaN   \n",
       "4             NaN       NaN              NaN              NaN          NaN   \n",
       "\n",
       "   route  \n",
       "0    NaN  \n",
       "1    NaN  \n",
       "2    NaN  \n",
       "3    NaN  \n",
       "4    NaN  \n",
       "\n",
       "[5 rows x 39 columns]"
      ]
     },
     "execution_count": 47,
     "metadata": {},
     "output_type": "execute_result"
    }
   ],
   "source": [
    "# Merging left now because we want to keep all price data and just add in patent data where applicable.  Should have the same number of columns at end.\n",
    "Price_Patent_Data = pd.merge(all_effective_dates, Cleaned_Patent_Data, how = 'left', left_on = [all_effective_dates.index, 'effective_date'], right_on = [Cleaned_Patent_Data.index, 'approval_date'])\n",
    "Price_Patent_Data.head()"
   ]
  },
  {
   "cell_type": "code",
   "execution_count": 50,
   "metadata": {
    "collapsed": true,
    "jupyter": {
     "outputs_hidden": true
    }
   },
   "outputs": [
    {
     "name": "stdout",
     "output_type": "stream",
     "text": [
      "<class 'pandas.core.frame.DataFrame'>\n",
      "Int64Index: 6746732 entries, 0 to 6746731\n",
      "Data columns (total 39 columns):\n",
      "key_0                                        6746732 non-null object\n",
      "classification_for_rate_setting              6746732 non-null object\n",
      "corresponding_generic_drug_effective_date    6746732 non-null object\n",
      "corresponding_generic_drug_nadac_per_unit    6746732 non-null float64\n",
      "effective_date                               6746732 non-null datetime64[ns]\n",
      "explanation_code                             6746732 non-null object\n",
      "nadac_per_unit                               6746732 non-null float64\n",
      "ndc                                          6746732 non-null float64\n",
      "ndc_description                              6746732 non-null object\n",
      "otc                                          6746732 non-null object\n",
      "pharmacy_type_indicator                      6746732 non-null object\n",
      "pricing_unit                                 6746732 non-null object\n",
      "ingredient                                   12517 non-null object\n",
      "df;route                                     12517 non-null object\n",
      "trade_name                                   12517 non-null object\n",
      "applicant                                    12517 non-null object\n",
      "strength                                     12517 non-null object\n",
      "appl_type_x                                  12517 non-null object\n",
      "appl_no                                      12517 non-null float64\n",
      "product_no                                   12517 non-null float64\n",
      "te_code                                      10313 non-null object\n",
      "approval_date                                12517 non-null datetime64[ns]\n",
      "rld                                          12517 non-null object\n",
      "rs                                           12517 non-null object\n",
      "type                                         12517 non-null object\n",
      "applicant_full_name                          12517 non-null object\n",
      "appl_type_y                                  8 non-null object\n",
      "patent_no                                    8 non-null object\n",
      "patent_expire_date_text                      8 non-null object\n",
      "drug_substance_flag                          0 non-null object\n",
      "drug_product_flag                            4 non-null object\n",
      "patent_use_code                              0 non-null object\n",
      "delist_flag                                  0 non-null object\n",
      "submission_date                              4 non-null object\n",
      "appl_type                                    0 non-null object\n",
      "exclusivity_code                             0 non-null object\n",
      "exclusivity_date                             0 non-null object\n",
      "dosage_form                                  12517 non-null object\n",
      "route                                        12517 non-null object\n",
      "dtypes: datetime64[ns](2), float64(5), object(32)\n",
      "memory usage: 2.0+ GB\n"
     ]
    }
   ],
   "source": [
    "Price_Patent_Data.info(verbose = True, null_counts = True)"
   ]
  },
  {
   "cell_type": "markdown",
   "metadata": {},
   "source": [
    "### __Export/Pickle the results__"
   ]
  },
  {
   "cell_type": "code",
   "execution_count": null,
   "metadata": {},
   "outputs": [],
   "source": [
    "# Export to csv\n",
    "Price_Patent_Data.to_csv('data/Price_Patent_Data.csv', index = False)"
   ]
  },
  {
   "cell_type": "code",
   "execution_count": 51,
   "metadata": {},
   "outputs": [],
   "source": [
    "# Pickle data (quicker than writing to CSV)\n",
    "dill.dump(Price_Patent_Data, open('data/Price_Patent_Data.pkd', 'wb'))"
   ]
  },
  {
   "cell_type": "code",
   "execution_count": 98,
   "metadata": {},
   "outputs": [],
   "source": [
    "# Unpickle name-matching dictionary\n",
    "import dill\n",
    "Price_Patent_Data = dill.load(open('data/Price_Patent_Data.pkd', 'rb'))"
   ]
  },
  {
   "cell_type": "code",
   "execution_count": 99,
   "metadata": {},
   "outputs": [],
   "source": [
    "# We'll drop these for now, but it may be useful to come back and get them for further analysis\n",
    "Price_Patent_Data.drop([\n",
    "                        'df;route', \n",
    "                        'appl_type_y',\n",
    "                        'patent_no',\n",
    "                        'appl_no',\n",
    "                        'product_no',\n",
    "                        'drug_substance_flag', \n",
    "                        'drug_product_flag', \n",
    "                        'patent_use_code',\n",
    "                        'appl_type',\n",
    "                        'delist_flag', \n",
    "                        'exclusivity_code'\n",
    "                         ], axis = 1, inplace = True)"
   ]
  },
  {
   "cell_type": "code",
   "execution_count": 100,
   "metadata": {},
   "outputs": [
    {
     "name": "stdout",
     "output_type": "stream",
     "text": [
      "<class 'pandas.core.frame.DataFrame'>\n",
      "Int64Index: 6746732 entries, 0 to 6746731\n",
      "Data columns (total 28 columns):\n",
      "key_0                                        6746732 non-null object\n",
      "classification_for_rate_setting              6746732 non-null object\n",
      "corresponding_generic_drug_effective_date    6746732 non-null object\n",
      "corresponding_generic_drug_nadac_per_unit    6746732 non-null float64\n",
      "effective_date                               6746732 non-null datetime64[ns]\n",
      "explanation_code                             6746732 non-null object\n",
      "nadac_per_unit                               6746732 non-null float64\n",
      "ndc                                          6746732 non-null float64\n",
      "ndc_description                              6746732 non-null object\n",
      "otc                                          6746732 non-null object\n",
      "pharmacy_type_indicator                      6746732 non-null object\n",
      "pricing_unit                                 6746732 non-null object\n",
      "ingredient                                   12517 non-null object\n",
      "trade_name                                   12517 non-null object\n",
      "applicant                                    12517 non-null object\n",
      "strength                                     12517 non-null object\n",
      "appl_type_x                                  12517 non-null object\n",
      "te_code                                      10313 non-null object\n",
      "approval_date                                12517 non-null datetime64[ns]\n",
      "rld                                          12517 non-null object\n",
      "rs                                           12517 non-null object\n",
      "type                                         12517 non-null object\n",
      "applicant_full_name                          12517 non-null object\n",
      "patent_expire_date_text                      8 non-null object\n",
      "submission_date                              4 non-null object\n",
      "exclusivity_date                             0 non-null object\n",
      "dosage_form                                  12517 non-null object\n",
      "route                                        12517 non-null object\n",
      "dtypes: datetime64[ns](2), float64(3), object(23)\n",
      "memory usage: 1.5+ GB\n"
     ]
    }
   ],
   "source": [
    "Price_Patent_Data.info(verbose = True, null_counts = True)"
   ]
  },
  {
   "cell_type": "code",
   "execution_count": 101,
   "metadata": {},
   "outputs": [
    {
     "data": {
      "text/html": [
       "<div>\n",
       "<style scoped>\n",
       "    .dataframe tbody tr th:only-of-type {\n",
       "        vertical-align: middle;\n",
       "    }\n",
       "\n",
       "    .dataframe tbody tr th {\n",
       "        vertical-align: top;\n",
       "    }\n",
       "\n",
       "    .dataframe thead th {\n",
       "        text-align: right;\n",
       "    }\n",
       "</style>\n",
       "<table border=\"1\" class=\"dataframe\">\n",
       "  <thead>\n",
       "    <tr style=\"text-align: right;\">\n",
       "      <th></th>\n",
       "      <th>key_0</th>\n",
       "      <th>classification_for_rate_setting</th>\n",
       "      <th>corresponding_generic_drug_effective_date</th>\n",
       "      <th>corresponding_generic_drug_nadac_per_unit</th>\n",
       "      <th>effective_date</th>\n",
       "      <th>explanation_code</th>\n",
       "      <th>nadac_per_unit</th>\n",
       "      <th>ndc</th>\n",
       "      <th>ndc_description</th>\n",
       "      <th>otc</th>\n",
       "      <th>...</th>\n",
       "      <th>approval_date</th>\n",
       "      <th>rld</th>\n",
       "      <th>rs</th>\n",
       "      <th>type</th>\n",
       "      <th>applicant_full_name</th>\n",
       "      <th>patent_expire_date_text</th>\n",
       "      <th>submission_date</th>\n",
       "      <th>exclusivity_date</th>\n",
       "      <th>dosage_form</th>\n",
       "      <th>route</th>\n",
       "    </tr>\n",
       "  </thead>\n",
       "  <tbody>\n",
       "    <tr>\n",
       "      <th>0</th>\n",
       "      <td>CALCITRIOL 0.25MCG ORAL</td>\n",
       "      <td>G</td>\n",
       "      <td>01/21/2015 12:00:00 AM</td>\n",
       "      <td>191.425</td>\n",
       "      <td>2013-11-21</td>\n",
       "      <td>1</td>\n",
       "      <td>0.55611</td>\n",
       "      <td>54000713.0</td>\n",
       "      <td>CALCITRIOL 0.25MCG CAPSULE</td>\n",
       "      <td>N</td>\n",
       "      <td>...</td>\n",
       "      <td>NaT</td>\n",
       "      <td>NaN</td>\n",
       "      <td>NaN</td>\n",
       "      <td>NaN</td>\n",
       "      <td>NaN</td>\n",
       "      <td>NaN</td>\n",
       "      <td>NaN</td>\n",
       "      <td>NaN</td>\n",
       "      <td>NaN</td>\n",
       "      <td>NaN</td>\n",
       "    </tr>\n",
       "    <tr>\n",
       "      <th>1</th>\n",
       "      <td>CALCITRIOL 0.25MCG ORAL</td>\n",
       "      <td>G</td>\n",
       "      <td>01/21/2015 12:00:00 AM</td>\n",
       "      <td>191.425</td>\n",
       "      <td>2013-11-22</td>\n",
       "      <td>1</td>\n",
       "      <td>0.55611</td>\n",
       "      <td>54000713.0</td>\n",
       "      <td>CALCITRIOL 0.25MCG CAPSULE</td>\n",
       "      <td>N</td>\n",
       "      <td>...</td>\n",
       "      <td>NaT</td>\n",
       "      <td>NaN</td>\n",
       "      <td>NaN</td>\n",
       "      <td>NaN</td>\n",
       "      <td>NaN</td>\n",
       "      <td>NaN</td>\n",
       "      <td>NaN</td>\n",
       "      <td>NaN</td>\n",
       "      <td>NaN</td>\n",
       "      <td>NaN</td>\n",
       "    </tr>\n",
       "    <tr>\n",
       "      <th>2</th>\n",
       "      <td>CALCITRIOL 0.25MCG ORAL</td>\n",
       "      <td>G</td>\n",
       "      <td>01/21/2015 12:00:00 AM</td>\n",
       "      <td>191.425</td>\n",
       "      <td>2013-11-23</td>\n",
       "      <td>1</td>\n",
       "      <td>0.55611</td>\n",
       "      <td>54000713.0</td>\n",
       "      <td>CALCITRIOL 0.25MCG CAPSULE</td>\n",
       "      <td>N</td>\n",
       "      <td>...</td>\n",
       "      <td>NaT</td>\n",
       "      <td>NaN</td>\n",
       "      <td>NaN</td>\n",
       "      <td>NaN</td>\n",
       "      <td>NaN</td>\n",
       "      <td>NaN</td>\n",
       "      <td>NaN</td>\n",
       "      <td>NaN</td>\n",
       "      <td>NaN</td>\n",
       "      <td>NaN</td>\n",
       "    </tr>\n",
       "    <tr>\n",
       "      <th>3</th>\n",
       "      <td>CALCITRIOL 0.25MCG ORAL</td>\n",
       "      <td>G</td>\n",
       "      <td>01/21/2015 12:00:00 AM</td>\n",
       "      <td>191.425</td>\n",
       "      <td>2013-11-24</td>\n",
       "      <td>1</td>\n",
       "      <td>0.55611</td>\n",
       "      <td>54000713.0</td>\n",
       "      <td>CALCITRIOL 0.25MCG CAPSULE</td>\n",
       "      <td>N</td>\n",
       "      <td>...</td>\n",
       "      <td>NaT</td>\n",
       "      <td>NaN</td>\n",
       "      <td>NaN</td>\n",
       "      <td>NaN</td>\n",
       "      <td>NaN</td>\n",
       "      <td>NaN</td>\n",
       "      <td>NaN</td>\n",
       "      <td>NaN</td>\n",
       "      <td>NaN</td>\n",
       "      <td>NaN</td>\n",
       "    </tr>\n",
       "    <tr>\n",
       "      <th>4</th>\n",
       "      <td>CALCITRIOL 0.25MCG ORAL</td>\n",
       "      <td>G</td>\n",
       "      <td>01/21/2015 12:00:00 AM</td>\n",
       "      <td>191.425</td>\n",
       "      <td>2013-11-25</td>\n",
       "      <td>1</td>\n",
       "      <td>0.55611</td>\n",
       "      <td>54000713.0</td>\n",
       "      <td>CALCITRIOL 0.25MCG CAPSULE</td>\n",
       "      <td>N</td>\n",
       "      <td>...</td>\n",
       "      <td>NaT</td>\n",
       "      <td>NaN</td>\n",
       "      <td>NaN</td>\n",
       "      <td>NaN</td>\n",
       "      <td>NaN</td>\n",
       "      <td>NaN</td>\n",
       "      <td>NaN</td>\n",
       "      <td>NaN</td>\n",
       "      <td>NaN</td>\n",
       "      <td>NaN</td>\n",
       "    </tr>\n",
       "  </tbody>\n",
       "</table>\n",
       "<p>5 rows × 28 columns</p>\n",
       "</div>"
      ],
      "text/plain": [
       "                     key_0 classification_for_rate_setting  \\\n",
       "0  CALCITRIOL 0.25MCG ORAL                               G   \n",
       "1  CALCITRIOL 0.25MCG ORAL                               G   \n",
       "2  CALCITRIOL 0.25MCG ORAL                               G   \n",
       "3  CALCITRIOL 0.25MCG ORAL                               G   \n",
       "4  CALCITRIOL 0.25MCG ORAL                               G   \n",
       "\n",
       "  corresponding_generic_drug_effective_date  \\\n",
       "0                    01/21/2015 12:00:00 AM   \n",
       "1                    01/21/2015 12:00:00 AM   \n",
       "2                    01/21/2015 12:00:00 AM   \n",
       "3                    01/21/2015 12:00:00 AM   \n",
       "4                    01/21/2015 12:00:00 AM   \n",
       "\n",
       "   corresponding_generic_drug_nadac_per_unit effective_date explanation_code  \\\n",
       "0                                    191.425     2013-11-21                1   \n",
       "1                                    191.425     2013-11-22                1   \n",
       "2                                    191.425     2013-11-23                1   \n",
       "3                                    191.425     2013-11-24                1   \n",
       "4                                    191.425     2013-11-25                1   \n",
       "\n",
       "   nadac_per_unit         ndc             ndc_description otc  ...  \\\n",
       "0         0.55611  54000713.0  CALCITRIOL 0.25MCG CAPSULE   N  ...   \n",
       "1         0.55611  54000713.0  CALCITRIOL 0.25MCG CAPSULE   N  ...   \n",
       "2         0.55611  54000713.0  CALCITRIOL 0.25MCG CAPSULE   N  ...   \n",
       "3         0.55611  54000713.0  CALCITRIOL 0.25MCG CAPSULE   N  ...   \n",
       "4         0.55611  54000713.0  CALCITRIOL 0.25MCG CAPSULE   N  ...   \n",
       "\n",
       "  approval_date  rld   rs type applicant_full_name patent_expire_date_text  \\\n",
       "0           NaT  NaN  NaN  NaN                 NaN                     NaN   \n",
       "1           NaT  NaN  NaN  NaN                 NaN                     NaN   \n",
       "2           NaT  NaN  NaN  NaN                 NaN                     NaN   \n",
       "3           NaT  NaN  NaN  NaN                 NaN                     NaN   \n",
       "4           NaT  NaN  NaN  NaN                 NaN                     NaN   \n",
       "\n",
       "  submission_date exclusivity_date dosage_form route  \n",
       "0             NaN              NaN         NaN   NaN  \n",
       "1             NaN              NaN         NaN   NaN  \n",
       "2             NaN              NaN         NaN   NaN  \n",
       "3             NaN              NaN         NaN   NaN  \n",
       "4             NaN              NaN         NaN   NaN  \n",
       "\n",
       "[5 rows x 28 columns]"
      ]
     },
     "execution_count": 101,
     "metadata": {},
     "output_type": "execute_result"
    }
   ],
   "source": [
    "# Sort columns by ndc and effective date (for proper processing of ffill and bfill methods)\n",
    "Price_Patent_Data.sort_values(['ndc', 'effective_date'], ascending = True, inplace = True)\n",
    "Price_Patent_Data.head()"
   ]
  },
  {
   "cell_type": "markdown",
   "metadata": {},
   "source": [
    "### __Forward Fill New Rows with Existing Data__\n",
    "Remember that we created a bunch of new rows/observations to accommodate the merging of price and patent information.  We can fill in the existing spaces with data from previous cells so that the transition from a historical cell to a current or future cell represents an appropriate change to a particular drug."
   ]
  },
  {
   "cell_type": "code",
   "execution_count": 102,
   "metadata": {},
   "outputs": [],
   "source": [
    "# Foward fill data the following columns -- MUST BE DONE BY NDC (forward fill will put current row's data into next row's null values)\n",
    "# This is ok because none of the following data is expected to change (with the exception of patent_expire_date_text, which should be updated already in the table)\n",
    "cols = ['ingredient', #f/bfill within drug\n",
    "        'trade_name',  #f/bfill within drug\n",
    "        'applicant', #f/bfill within drug\n",
    "        'strength', #f/bfill within drug (because different ndc #s represent different dosages)\n",
    "        'appl_type_x', #f/bfill within drug\n",
    "        'te_code',  #f/bfill within drug (shouldn't change)\n",
    "        'approval_date',#FFILL ONLY\n",
    "        'rld',  #f/bfill within drug\n",
    "        'rs', #f/bfill within drug\n",
    "        'type', #f/bfill within drug\n",
    "        'applicant_full_name', #f/bfill within drug (duplicate to 'applicant')\n",
    "        'patent_expire_date_text',  #FFILL ONLY\n",
    "        'submission_date',  #FFILL ONLY\n",
    "        #'appl_type', #f/bfill within drug\n",
    "        'exclusivity_date',  #FFILL ONLY\n",
    "        'dosage_form', #f/bfill within drug\n",
    "        'route'] #f/bfill within drug\n",
    "# Price_Patent_Data.update(Price_Patent_Data.groupby('ndc')[cols].ffill())\n",
    "Price_Patent_Data.update(Price_Patent_Data.groupby('ndc')[cols].fillna(method = 'ffill'))"
   ]
  },
  {
   "cell_type": "code",
   "execution_count": 103,
   "metadata": {},
   "outputs": [
    {
     "name": "stdout",
     "output_type": "stream",
     "text": [
      "<class 'pandas.core.frame.DataFrame'>\n",
      "Int64Index: 6746732 entries, 0 to 6746731\n",
      "Data columns (total 28 columns):\n",
      "key_0                                        6746732 non-null object\n",
      "classification_for_rate_setting              6746732 non-null object\n",
      "corresponding_generic_drug_effective_date    6746732 non-null object\n",
      "corresponding_generic_drug_nadac_per_unit    6746732 non-null float64\n",
      "effective_date                               6746732 non-null datetime64[ns]\n",
      "explanation_code                             6746732 non-null object\n",
      "nadac_per_unit                               6746732 non-null float64\n",
      "ndc                                          6746732 non-null float64\n",
      "ndc_description                              6746732 non-null object\n",
      "otc                                          6746732 non-null object\n",
      "pharmacy_type_indicator                      6746732 non-null object\n",
      "pricing_unit                                 6746732 non-null object\n",
      "ingredient                                   3876083 non-null object\n",
      "trade_name                                   3876083 non-null object\n",
      "applicant                                    3876083 non-null object\n",
      "strength                                     3876083 non-null object\n",
      "appl_type_x                                  3876083 non-null object\n",
      "te_code                                      3343077 non-null object\n",
      "approval_date                                3876083 non-null datetime64[ns]\n",
      "rld                                          3876083 non-null object\n",
      "rs                                           3876083 non-null object\n",
      "type                                         3876083 non-null object\n",
      "applicant_full_name                          3876083 non-null object\n",
      "patent_expire_date_text                      2586 non-null object\n",
      "submission_date                              2586 non-null object\n",
      "exclusivity_date                             0 non-null object\n",
      "dosage_form                                  3876083 non-null object\n",
      "route                                        3876083 non-null object\n",
      "dtypes: datetime64[ns](2), float64(3), object(23)\n",
      "memory usage: 1.5+ GB\n"
     ]
    }
   ],
   "source": [
    "Price_Patent_Data.info(verbose = True, null_counts = True)"
   ]
  },
  {
   "cell_type": "code",
   "execution_count": 55,
   "metadata": {},
   "outputs": [],
   "source": [
    "#--------------------------------# \n",
    "# NOT BACKFILLING OUT OF CAUTION #  ==> # I believe that this may be ok, but because I'm not 100% sure, I'm leaving this out of the minimum viable product\n",
    "#--------------------------------#\n",
    "\n",
    "# cols = ['ingredient', #f/bfill within drug\n",
    "#         'trade_name',  #f/bfill within drug\n",
    "#         'applicant', #f/bfill within drug\n",
    "#         'strength', #f/bfill within drug (because different ndc #s represent different dosages)\n",
    "#         'appl_type_x', #f/bfill within drug\n",
    "#         'te_code',  #f/bfill within drug (shouldn't change)\n",
    "#         'rld',  #f/bfill within drug\n",
    "#         'rs', #f/bfill within drug\n",
    "#         'type', #f/bfill within drug\n",
    "#         'applicant_full_name', #f/bfill within drug (duplicate to 'applicant')\n",
    "#         'appl_type', #f/bfill within drug\n",
    "#         'dosage_form', #f/bfill within drug\n",
    "#         'route'] #f/bfill within drug\n",
    "# # Price_Patent_Data.update(Price_Patent_Data.groupby('ndc')[cols].bfill()) #Can I do this without compromising data integrity?\n",
    "# Price_Patent_Data.update(Price_Patent_Data.groupby('ndc')[cols].fillna(method = 'bfill'))"
   ]
  },
  {
   "cell_type": "markdown",
   "metadata": {},
   "source": [
    "### __Delete Old Patent Data__\n",
    "Price data only goes back to 2013-02-21; therefore any patent data older than that will not aid in the prediction of prices.  It is being removed in the next few lines.\n",
    "\n",
    "It's been added to the 'To_do' notebook to come back and minimize data lost from this process."
   ]
  },
  {
   "cell_type": "code",
   "execution_count": null,
   "metadata": {},
   "outputs": [],
   "source": [
    "# Get minimum effective_date (earliest date for which I have price data)\n",
    "min_effective_date = all_effective_dates.effective_date.min()\n",
    "# Drop all observations with approval dates prior to 2013-02-21 (the earliest date of price information)\n",
    "Cleaned_Patent_Data = Cleaned_Patent_Data[Cleaned_Patent_Data.approval_date >= min_effective_date]"
   ]
  },
  {
   "cell_type": "code",
   "execution_count": null,
   "metadata": {},
   "outputs": [],
   "source": [
    "Price_Patent_Data.info(verbose = True, null_counts = True)"
   ]
  },
  {
   "cell_type": "code",
   "execution_count": 104,
   "metadata": {},
   "outputs": [
    {
     "name": "stdout",
     "output_type": "stream",
     "text": [
      "<class 'pandas.core.frame.DataFrame'>\n",
      "Int64Index: 6746728 entries, 0 to 6746731\n",
      "Data columns (total 28 columns):\n",
      "key_0                                        6746728 non-null object\n",
      "classification_for_rate_setting              6746728 non-null object\n",
      "corresponding_generic_drug_effective_date    6746728 non-null object\n",
      "corresponding_generic_drug_nadac_per_unit    6746728 non-null float64\n",
      "effective_date                               6746728 non-null datetime64[ns]\n",
      "explanation_code                             6746728 non-null object\n",
      "nadac_per_unit                               6746728 non-null float64\n",
      "ndc                                          6746728 non-null float64\n",
      "ndc_description                              6746728 non-null object\n",
      "otc                                          6746728 non-null object\n",
      "pharmacy_type_indicator                      6746728 non-null object\n",
      "pricing_unit                                 6746728 non-null object\n",
      "ingredient                                   3876079 non-null object\n",
      "trade_name                                   3876079 non-null object\n",
      "applicant                                    3876079 non-null object\n",
      "strength                                     3876079 non-null object\n",
      "appl_type_x                                  3876079 non-null object\n",
      "te_code                                      3343077 non-null object\n",
      "approval_date                                3876079 non-null datetime64[ns]\n",
      "rld                                          3876079 non-null object\n",
      "rs                                           3876079 non-null object\n",
      "type                                         3876079 non-null object\n",
      "applicant_full_name                          3876079 non-null object\n",
      "patent_expire_date_text                      2582 non-null object\n",
      "submission_date                              2582 non-null object\n",
      "exclusivity_date                             0 non-null object\n",
      "dosage_form                                  3876079 non-null object\n",
      "route                                        3876079 non-null object\n",
      "dtypes: datetime64[ns](2), float64(3), object(23)\n",
      "memory usage: 1.5+ GB\n"
     ]
    }
   ],
   "source": [
    "Price_Patent_Data = Price_Patent_Data.drop_duplicates(keep = 'first')\n",
    "Price_Patent_Data.info(verbose = True, null_counts = True)"
   ]
  },
  {
   "cell_type": "markdown",
   "metadata": {},
   "source": [
    "## __Further Cleaning__"
   ]
  },
  {
   "cell_type": "markdown",
   "metadata": {},
   "source": [
    "#### __Delete all unneeded columns__"
   ]
  },
  {
   "cell_type": "code",
   "execution_count": 105,
   "metadata": {},
   "outputs": [],
   "source": [
    "# Keep only the following:\n",
    "cols = ['nadac_per_unit',            # Put pricing column in front for easy slicing (dependent variable in regression)\n",
    "        'key_0',                     # Drug names (names matching patent dataset)\n",
    "        'ndc',                       # Uniquely identifies drugs (including differing dosages & routes)\n",
    "        'effective_date',\n",
    "        'classification_for_rate_setting',\n",
    "        'corresponding_generic_drug_effective_date',\n",
    "        'corresponding_generic_drug_nadac_per_unit',\n",
    "        'otc',\n",
    "        'approval_date',             # These two date columns are for createing a 'days_before_patent_expires' column\n",
    "        'patent_expire_date_text',   #\n",
    "        'pricing_unit',\n",
    "        'ingredient',\n",
    "        'applicant',\n",
    "        'submission_date',           # submission-application dates == 'days to process app' column\n",
    "        'te_code',\n",
    "        'type',\n",
    "        #'exclusivity_code',\n",
    "        'dosage_form',\n",
    "        'route']\n",
    "# Delete all columns not in the 'cols' list\n",
    "Price_Patent_Data = Price_Patent_Data[cols]"
   ]
  },
  {
   "cell_type": "code",
   "execution_count": 106,
   "metadata": {},
   "outputs": [],
   "source": [
    "Price_Patent_Data.rename({'key_0':'drug_names'}, axis = 1, inplace = True)"
   ]
  },
  {
   "cell_type": "code",
   "execution_count": 107,
   "metadata": {},
   "outputs": [],
   "source": [
    "#Convert all to datetimes\n",
    "Price_Patent_Data['effective_date'] = pd.to_datetime(Price_Patent_Data['effective_date']) #, format='%Y/%m/%d')\n",
    "Price_Patent_Data['corresponding_generic_drug_effective_date'] = pd.to_datetime(Price_Patent_Data['corresponding_generic_drug_effective_date']) #, format='%Y/%m/%d')\n",
    "Price_Patent_Data['approval_date'] = pd.to_datetime(Price_Patent_Data['approval_date']) #, format='%Y/%m/%d')\n",
    "Price_Patent_Data['patent_expire_date_text'] = pd.to_datetime(Price_Patent_Data['patent_expire_date_text']) #, format='%Y/%m/%d')\n",
    "Price_Patent_Data['submission_date'] = pd.to_datetime(Price_Patent_Data['submission_date']) #, format='%Y/%m/%d')\n",
    "# Price_Patent_Data['exclusivity_date'] = pd.to_datetime(Price_Patent_Data['exclusivity_date']) #, format='%Y/%m/%d')"
   ]
  },
  {
   "cell_type": "code",
   "execution_count": 108,
   "metadata": {},
   "outputs": [
    {
     "name": "stdout",
     "output_type": "stream",
     "text": [
      "<class 'pandas.core.frame.DataFrame'>\n",
      "Int64Index: 6746728 entries, 0 to 6746731\n",
      "Data columns (total 18 columns):\n",
      "nadac_per_unit                               6746728 non-null float64\n",
      "drug_names                                   6746728 non-null object\n",
      "ndc                                          6746728 non-null float64\n",
      "effective_date                               6746728 non-null datetime64[ns]\n",
      "classification_for_rate_setting              6746728 non-null object\n",
      "corresponding_generic_drug_effective_date    6746728 non-null datetime64[ns]\n",
      "corresponding_generic_drug_nadac_per_unit    6746728 non-null float64\n",
      "otc                                          6746728 non-null object\n",
      "approval_date                                3876079 non-null datetime64[ns]\n",
      "patent_expire_date_text                      2582 non-null datetime64[ns]\n",
      "pricing_unit                                 6746728 non-null object\n",
      "ingredient                                   3876079 non-null object\n",
      "applicant                                    3876079 non-null object\n",
      "submission_date                              2582 non-null datetime64[ns]\n",
      "te_code                                      3343077 non-null object\n",
      "type                                         3876079 non-null object\n",
      "dosage_form                                  3876079 non-null object\n",
      "route                                        3876079 non-null object\n",
      "dtypes: datetime64[ns](5), float64(3), object(10)\n",
      "memory usage: 978.0+ MB\n"
     ]
    }
   ],
   "source": [
    "Price_Patent_Data.info(verbose = True, null_counts = True)"
   ]
  },
  {
   "cell_type": "markdown",
   "metadata": {},
   "source": [
    "## **Note:** The following overwrites current files\n",
    "Be sure you're done with this notebook before continuing"
   ]
  },
  {
   "cell_type": "code",
   "execution_count": 109,
   "metadata": {},
   "outputs": [],
   "source": [
    "# Pickle data\n",
    "dill.dump(Price_Patent_Data, open('data/merged.pkd', 'wb'))"
   ]
  },
  {
   "cell_type": "code",
   "execution_count": null,
   "metadata": {},
   "outputs": [],
   "source": [
    "# Export to csv so it can later be imported in a chunked fashion\n",
    "Price_Patent_Data.to_csv('data/Price_Patent_Data.csv', index = False)"
   ]
  },
  {
   "cell_type": "markdown",
   "metadata": {},
   "source": [
    "### __Get top 100 drugs by frequency of ndc__"
   ]
  },
  {
   "cell_type": "code",
   "execution_count": 110,
   "metadata": {},
   "outputs": [
    {
     "data": {
      "text/plain": [
       "100"
      ]
     },
     "execution_count": 110,
     "metadata": {},
     "output_type": "execute_result"
    }
   ],
   "source": [
    "# Another attempt at top 100 ndc numbers by frequency\n",
    "top_100_drugs = Price_Patent_Data[Price_Patent_Data['ndc'].isin(Price_Patent_Data['ndc'].value_counts().index[:100])]\n",
    "len(top_100_drugs.ndc.unique())"
   ]
  },
  {
   "cell_type": "code",
   "execution_count": 111,
   "metadata": {},
   "outputs": [
    {
     "name": "stdout",
     "output_type": "stream",
     "text": [
      "<class 'pandas.core.frame.DataFrame'>\n",
      "Int64Index: 214541 entries, 68472 to 6411864\n",
      "Data columns (total 18 columns):\n",
      "nadac_per_unit                               214541 non-null float64\n",
      "drug_names                                   214541 non-null object\n",
      "ndc                                          214541 non-null float64\n",
      "effective_date                               214541 non-null datetime64[ns]\n",
      "classification_for_rate_setting              214541 non-null object\n",
      "corresponding_generic_drug_effective_date    214541 non-null datetime64[ns]\n",
      "corresponding_generic_drug_nadac_per_unit    214541 non-null float64\n",
      "otc                                          214541 non-null object\n",
      "approval_date                                133310 non-null datetime64[ns]\n",
      "patent_expire_date_text                      2211 non-null datetime64[ns]\n",
      "pricing_unit                                 214541 non-null object\n",
      "ingredient                                   133310 non-null object\n",
      "applicant                                    133310 non-null object\n",
      "submission_date                              2211 non-null datetime64[ns]\n",
      "te_code                                      126205 non-null object\n",
      "type                                         133310 non-null object\n",
      "dosage_form                                  133310 non-null object\n",
      "route                                        133310 non-null object\n",
      "dtypes: datetime64[ns](5), float64(3), object(10)\n",
      "memory usage: 31.1+ MB\n"
     ]
    }
   ],
   "source": [
    "top_100_drugs.info(verbose = True, null_counts = True)"
   ]
  },
  {
   "cell_type": "code",
   "execution_count": 112,
   "metadata": {},
   "outputs": [],
   "source": [
    "# Pickle data\n",
    "dill.dump(top_100_drugs, open('data/top_100_drugs.pkd', 'wb'))"
   ]
  },
  {
   "cell_type": "markdown",
   "metadata": {},
   "source": [
    "## __Plotting Distribution of Data__"
   ]
  },
  {
   "cell_type": "code",
   "execution_count": null,
   "metadata": {},
   "outputs": [],
   "source": [
    "#Checking distribution of prices before and after the addition of effective_dates (it appears they - and maybe all columns - were forward-filled as anticipated)\n",
    "import matplotlib.pyplot as plt\n",
    "# fig = plt.subplots(2, 1)\n",
    "fig, (ax1, ax2) = plt.subplots(2, sharex = True)\n",
    "ax1.hist(Cleaned_Price_Data['nadac_per_unit'])\n",
    "ax1.set_title('Pre-dates-added')\n",
    "\n",
    "ax2.hist(all_effective_dates['nadac_per_unit'])\n",
    "ax2.set_title('Post-dates-added')\n",
    "plt.show()"
   ]
  },
  {
   "cell_type": "code",
   "execution_count": null,
   "metadata": {},
   "outputs": [],
   "source": [
    "def date_distribution(dataframe, column_as_string):\n",
    "    import datetime as dt\n",
    "    import numpy as np\n",
    "    import matplotlib.pyplot as plt\n",
    "    import matplotlib.dates as mdates\n",
    "    \n",
    "    dataframe[column_as_string] = pd.to_datetime(dataframe[column_as_string], errors = 'ignore').dt.date\n",
    "    counts = dataframe[column_as_string].value_counts()\n",
    "\n",
    "    fig, ax = plt.subplots(1,1, figsize = (10, 7))\n",
    "\n",
    "    ax.hist(counts.index)\n",
    "    ax.xaxis.set_major_locator(mdates.YearLocator())\n",
    "    # ax.xaxis.set_major_formatter(mdates.DateFormatter('%d.%m.%y'))\n",
    "    ax.xdate = True\n",
    "    plt.title('Distribution of {} over time'.format(column_as_string))\n",
    "    plt.xticks(rotation = 30)\n",
    "    return plt.show()"
   ]
  },
  {
   "cell_type": "code",
   "execution_count": null,
   "metadata": {},
   "outputs": [],
   "source": [
    "date_distribution(Cleaned_Patent_Data, 'patent_expire_date_text')"
   ]
  },
  {
   "cell_type": "code",
   "execution_count": null,
   "metadata": {},
   "outputs": [],
   "source": [
    "date_distribution(Cleaned_Price_Data, 'effective_date')"
   ]
  },
  {
   "cell_type": "code",
   "execution_count": null,
   "metadata": {},
   "outputs": [],
   "source": [
    "date_distribution(Cleaned_Price_Data, 'as_of_date')"
   ]
  },
  {
   "cell_type": "code",
   "execution_count": null,
   "metadata": {},
   "outputs": [],
   "source": [
    "date_distribution(Cleaned_Patent_Data, 'approval_date')"
   ]
  }
 ],
 "metadata": {
  "kernelspec": {
   "display_name": "Python 3",
   "language": "python",
   "name": "python3"
  },
  "language_info": {
   "codemirror_mode": {
    "name": "ipython",
    "version": 3
   },
   "file_extension": ".py",
   "mimetype": "text/x-python",
   "name": "python",
   "nbconvert_exporter": "python",
   "pygments_lexer": "ipython3",
   "version": "3.7.3"
  }
 },
 "nbformat": 4,
 "nbformat_minor": 4
}
