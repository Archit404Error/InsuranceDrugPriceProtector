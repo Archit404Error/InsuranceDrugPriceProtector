{
 "cells": [
  {
   "cell_type": "markdown",
   "metadata": {},
   "source": [
    "# __Plotting__\n",
    "Purpose:  Investigation of (price and patent) data to determine points of interest"
   ]
  },
  {
   "cell_type": "code",
   "execution_count": 5,
   "metadata": {
    "scrolled": true
   },
   "outputs": [],
   "source": [
    "import pandas as pd\n",
    "import dill\n",
    "import matplotlib.pyplot as plt\n",
    "import seaborn as sns\n",
    "%matplotlib inline"
   ]
  },
  {
   "cell_type": "code",
   "execution_count": 6,
   "metadata": {
    "scrolled": false
   },
   "outputs": [
    {
     "ename": "FileNotFoundError",
     "evalue": "[Errno 2] No such file or directory: 'Price_Patent_Data.pkd'",
     "output_type": "error",
     "traceback": [
      "\u001b[0;31m---------------------------------------------------------------------------\u001b[0m",
      "\u001b[0;31mFileNotFoundError\u001b[0m                         Traceback (most recent call last)",
      "\u001b[0;32m<ipython-input-6-378d7cfd069b>\u001b[0m in \u001b[0;36m<module>\u001b[0;34m\u001b[0m\n\u001b[1;32m      2\u001b[0m \u001b[0;34m\u001b[0m\u001b[0m\n\u001b[1;32m      3\u001b[0m \u001b[0;31m# Unpickle Price_Patent_Data from the 'MergingAllData' Jupyter Notebook\u001b[0m\u001b[0;34m\u001b[0m\u001b[0;34m\u001b[0m\u001b[0;34m\u001b[0m\u001b[0m\n\u001b[0;32m----> 4\u001b[0;31m \u001b[0mPrice_Patent_Data\u001b[0m \u001b[0;34m=\u001b[0m \u001b[0mdill\u001b[0m\u001b[0;34m.\u001b[0m\u001b[0mload\u001b[0m\u001b[0;34m(\u001b[0m\u001b[0mopen\u001b[0m\u001b[0;34m(\u001b[0m\u001b[0;34m'Price_Patent_Data.pkd'\u001b[0m\u001b[0;34m,\u001b[0m \u001b[0;34m'rb'\u001b[0m\u001b[0;34m)\u001b[0m\u001b[0;34m)\u001b[0m\u001b[0;34m\u001b[0m\u001b[0;34m\u001b[0m\u001b[0m\n\u001b[0m",
      "\u001b[0;31mFileNotFoundError\u001b[0m: [Errno 2] No such file or directory: 'Price_Patent_Data.pkd'"
     ]
    }
   ],
   "source": [
    "# Updated with new post-merge dataset!\n",
    "\n",
    "# Unpickle Price_Patent_Data from the 'MergingAllData' Jupyter Notebook\n",
    "Price_Patent_Data = dill.load(open('Price_Patent_Data.pkd', 'rb'))"
   ]
  },
  {
   "cell_type": "code",
   "execution_count": null,
   "metadata": {},
   "outputs": [],
   "source": [
    "Price_Patent_Data.info()"
   ]
  },
  {
   "cell_type": "code",
   "execution_count": null,
   "metadata": {},
   "outputs": [],
   "source": [
    "#Convert all to datetimes\n",
    "Price_Patent_Data['effective_date'] = pd.to_datetime(Price_Patent_Data['effective_date']) #, format='%Y/%m/%d')\n",
    "Price_Patent_Data['as_of_date'] = pd.to_datetime(Price_Patent_Data['as_of_date']) #, format='%Y/%m/%d')\n",
    "Price_Patent_Data['corresponding_generic_drug_effective_date'] = pd.to_datetime(Price_Patent_Data['corresponding_generic_drug_effective_date']) #, format='%Y/%m/%d')\n",
    "Price_Patent_Data['approval_date'] = pd.to_datetime(Price_Patent_Data['approval_date']) #, format='%Y/%m/%d')\n",
    "Price_Patent_Data['patent_expire_date_text'] = pd.to_datetime(Price_Patent_Data['patent_expire_date_text']) #, format='%Y/%m/%d')\n",
    "Price_Patent_Data['submission_date'] = pd.to_datetime(Price_Patent_Data['submission_date']) #, format='%Y/%m/%d')\n",
    "Price_Patent_Data['exclusivity_date'] = pd.to_datetime(Price_Patent_Data['exclusivity_date']) #, format='%Y/%m/%d')"
   ]
  },
  {
   "cell_type": "code",
   "execution_count": null,
   "metadata": {},
   "outputs": [],
   "source": [
    "Price_Patent_Data.reset_index(inplace = True)"
   ]
  },
  {
   "cell_type": "code",
   "execution_count": null,
   "metadata": {},
   "outputs": [],
   "source": [
    "# Group drugs by name and sort values by price (highest to lowest)\n",
    "price_table = Price_Patent_Data.groupby('ndc_description').mean().sort_values(by='nadac_per_unit', ascending = False)\n",
    "price_table.head(10)"
   ]
  },
  {
   "cell_type": "code",
   "execution_count": null,
   "metadata": {
    "jupyter": {
     "outputs_hidden": true
    }
   },
   "outputs": [],
   "source": [
    "# Group drugs by name and sort values by the price of the corresponding generic drug (highest to lowest)\n",
    "price_table = Price_Patent_Data[Price_Patent_Data['classification_for_rate_setting']=='G'].groupby(Price_Patent_Data['ndc_description'])\n",
    "# price_table = price_table.sort_values('nadac_per_unit', ascending = False)\n",
    "price_table.head(10)"
   ]
  },
  {
   "cell_type": "code",
   "execution_count": null,
   "metadata": {},
   "outputs": [],
   "source": [
    "Price_Patent_Data.info(verbose = True, null_counts = True)"
   ]
  },
  {
   "cell_type": "code",
   "execution_count": null,
   "metadata": {},
   "outputs": [],
   "source": [
    "# Top 15 drugs (brand and generic) by frequency in the dataset\n",
    "top_drugs_by_freq = Price_Patent_Data['ndc_description'].value_counts().sort_values(ascending = False)\n",
    "top_15_drugs_by_freq = top_drugs_by_freq[:15].index.tolist()\n",
    "top_15_drugs_by_freq"
   ]
  },
  {
   "cell_type": "code",
   "execution_count": null,
   "metadata": {},
   "outputs": [],
   "source": [
    "# Top 15 generic drugs by frequency in the dataset\n",
    "top_drugs_by_freq = Price_Patent_Data[Price_Patent_Data['classification_for_rate_setting']=='G']\n",
    "top_generic_drugs_by_freq = top_drugs_by_freq['ndc_description'].value_counts().sort_values(ascending = False)\n",
    "top_15_drugs_generic = top_generic_drugs_by_freq[:15].index.tolist()\n",
    "top_15_drugs_generic"
   ]
  },
  {
   "cell_type": "code",
   "execution_count": null,
   "metadata": {},
   "outputs": [],
   "source": [
    "# Are the top 15 drugs by frequency all generics?\n",
    "top_15_drugs_by_freq == top_15_drugs_generic"
   ]
  },
  {
   "cell_type": "code",
   "execution_count": null,
   "metadata": {},
   "outputs": [],
   "source": [
    "# Top 15 brand-name drugs by frequency in the dataset\n",
    "top_brand_drugs_by_freq = Price_Patent_Data[Price_Patent_Data['classification_for_rate_setting']=='B']\n",
    "top_brand_drugs_sorted = top_brand_drugs_by_freq['ndc_description'].value_counts().sort_values(ascending = False)\n",
    "top_15_drugs_brand = top_brand_drugs_sorted[:15].index.tolist()\n",
    "top_15_drugs_brand"
   ]
  },
  {
   "cell_type": "code",
   "execution_count": null,
   "metadata": {},
   "outputs": [],
   "source": [
    "# Plot prices for the top 15 generic drugs over time\n",
    "top_15_df = Price_Patent_Data[Price_Patent_Data['ndc_description'].isin(top_15_drugs_generic)]\n",
    "\n",
    "fig = plt.figure(figsize = (12, 9))\n",
    "sns.lineplot(x = 'effective_date', \n",
    "             y = 'nadac_per_unit',\n",
    "             hue = 'ndc_description',\n",
    "             data = top_15_df).set_title('Top 15 generic drugs (by frequency) prices over time')"
   ]
  },
  {
   "cell_type": "code",
   "execution_count": null,
   "metadata": {},
   "outputs": [],
   "source": [
    "# Top 15 brand-name drugs without generic equivalents by frequency in the dataset\n",
    "brand_drugs_by_freq = Price_Patent_Data[(Price_Patent_Data['classification_for_rate_setting']=='B')]\n",
    "brand_drugs_no_te = brand_drugs_by_freq[brand_drugs_by_freq['te_code'].isnull()] # Roughly: brand drugs with no therapeutic equivalents\n",
    "\n",
    "\n",
    "sorted_brand_only_drugs = brand_drugs_no_te['ndc_description'].value_counts().sort_values(ascending = False)\n",
    "top_15_brand_only_drugs = sorted_brand_only_drugs[:15].index.tolist()\n",
    "\n",
    "# # Plot prices for the top 15 brand-name drugs over time\n",
    "top_15_brand_only_drugs_no_te = Price_Patent_Data[Price_Patent_Data['ndc_description'].isin(top_15_brand_only_drugs)]\n",
    "\n",
    "fig = plt.figure(figsize = (12, 9))\n",
    "sns.lineplot(x = 'effective_date', \n",
    "             y = 'nadac_per_unit',\n",
    "             hue = 'ndc_description',\n",
    "             data = top_15_brand_only_drugs_no_te).set_title('Tope 15 brand-only drug prices (by frequency) over time')\n",
    "# plt.title()\n",
    "plt.legend(loc = 'center left', bbox_to_anchor = (1, 0.5), ncol=1)"
   ]
  },
  {
   "cell_type": "markdown",
   "metadata": {},
   "source": [
    "-------------------------------------------\n",
    "We'll drop Epclusa (for the purpose of these plots) since, with respect to price, it's an outlier.  We'll also see that it'll allow us to see the other drug price trends more accurately."
   ]
  },
  {
   "cell_type": "code",
   "execution_count": null,
   "metadata": {},
   "outputs": [],
   "source": [
    "# Plot prices for the top 14 (EPCLUSA excluded as an outlier) brand-name drugs over time\n",
    "top_14_brand_only_drugs = top_15_brand_only_drugs_no_te[~top_15_brand_only_drugs_no_te['ndc_description'].str.contains('EPCLUSA')]\n",
    "\n",
    "fig = plt.figure(figsize = (12, 9))\n",
    "g = sns.lineplot(x = 'effective_date', \n",
    "             y = 'nadac_per_unit',\n",
    "             hue = 'ndc_description',\n",
    "             data = top_14_brand_only_drugs).set_title('Top 14 brand-only drug prices (by frequency) over time')\n",
    "plt.legend(loc = 'center left', bbox_to_anchor = (1, 0.5), ncol=1)"
   ]
  },
  {
   "cell_type": "markdown",
   "metadata": {},
   "source": [
    "### __Patent data over time__"
   ]
  },
  {
   "cell_type": "code",
   "execution_count": null,
   "metadata": {},
   "outputs": [],
   "source": [
    "# Plot Patent approval dates, followed by expiry dates on a horizontal lollipop plot.  \n",
    "# I believe that the green dots all represent extensions to that particular drug\n",
    "\n",
    "fig = plt.figure(figsize=(12, 9))\n",
    "\n",
    "plt.hlines(y=top_15_brand_only_drugs_no_te['ndc_description'], \n",
    "           xmin=top_15_brand_only_drugs_no_te['approval_date'], \n",
    "           xmax=top_15_brand_only_drugs_no_te['patent_expire_date_text'], \n",
    "           color='grey', \n",
    "           alpha=0.4)\n",
    "plt.scatter(top_15_brand_only_drugs_no_te['approval_date'], \n",
    "            top_15_brand_only_drugs_no_te['ndc_description'], \n",
    "            color = 'skyblue', \n",
    "            alpha = 1, \n",
    "            label = 'approval_date')\n",
    "plt.scatter(top_15_brand_only_drugs_no_te['patent_expire_date_text'],\n",
    "            top_15_brand_only_drugs_no_te['ndc_description'],\n",
    "            color = 'green',\n",
    "            alpha = 0.4, \n",
    "            label = 'patent_expire_date')\n",
    "plt.set_title('Patent approval and expiry dates of top 15 drugs (by frequency) over time')\n",
    "plt.legend(loc = 'lower right')"
   ]
  },
  {
   "cell_type": "markdown",
   "metadata": {},
   "source": [
    "### __Brand Drugs in Dataset__"
   ]
  },
  {
   "cell_type": "code",
   "execution_count": null,
   "metadata": {},
   "outputs": [],
   "source": [
    "Price_Patent_Data['classification_for_rate_setting'].value_counts()"
   ]
  },
  {
   "cell_type": "markdown",
   "metadata": {},
   "source": [
    "### __Drugs without Therapeutic Equivalents__"
   ]
  },
  {
   "cell_type": "code",
   "execution_count": null,
   "metadata": {},
   "outputs": [],
   "source": [
    "top_15_brand_only_drugs"
   ]
  },
  {
   "cell_type": "code",
   "execution_count": null,
   "metadata": {},
   "outputs": [],
   "source": [
    "#Order Drugs by highest price\n",
    "#top_brand_drugs_by_freq ==> a variable created further up in the workflow\n",
    "top_brand_only_drugs = top_brand_drugs_by_freq[top_brand_drugs_by_freq['te_code'].isnull()] #with no therapeutic equivalents\n",
    "drugs_by_price = top_brand_only_drugs.sort_values(by='nadac_per_unit', ascending = False) #sort all values by price"
   ]
  },
  {
   "cell_type": "code",
   "execution_count": null,
   "metadata": {},
   "outputs": [],
   "source": [
    "# Aggregate drugs on list by top 15 drug names\n",
    "drugs_by_price_grouped = drugs_by_price.groupby('ndc_description')\n",
    "drugs_by_price_grouped.apply(lambda drugs_by_price_grouped: drugs_by_price_grouped.sort_values(by = ['nadac_per_unit'], ascending = False)) #sort first by price, then get the top 15\n",
    "drugs_by_price_grouped = drugs_by_price_grouped.head(15)\n",
    "drugs_by_price_grouped = drugs_by_price_grouped['ndc_description'] # Select just the names that have been ordered by price\n",
    "drugs_by_price_grouped = drugs_by_price_grouped.unique()[:15] #get unique names from the list"
   ]
  },
  {
   "cell_type": "code",
   "execution_count": null,
   "metadata": {},
   "outputs": [],
   "source": [
    "# Plot prices for the top 5 brand-name drugs over time (use list to filter) - the top 5 are much higher than the rest\n",
    "highest_price_15_brand_only_drugs = Price_Patent_Data[Price_Patent_Data['ndc_description'].isin(drugs_by_price_grouped[:5])]\n",
    "\n",
    "fig = plt.figure(figsize = (12, 9))\n",
    "sns.lineplot(x = 'effective_date', \n",
    "             y = 'nadac_per_unit',\n",
    "             hue = 'ndc_description',\n",
    "             data = highest_price_15_brand_only_drugs).set_title('Top 5 brand-only drug prices (by price) over time')\n",
    "plt.legend(loc = 'center left', bbox_to_anchor = (1, 0.5), ncol=1)\n"
   ]
  },
  {
   "cell_type": "code",
   "execution_count": null,
   "metadata": {},
   "outputs": [],
   "source": [
    "# Plot prices for the top 5-15 brand-name drugs over time (use list to filter)\n",
    "highest_price_15_brand_only_drugs = Price_Patent_Data[Price_Patent_Data['ndc_description'].isin(drugs_by_price_grouped[5:])]\n",
    "\n",
    "fig = plt.figure(figsize = (12, 9))\n",
    "sns.lineplot(x = 'effective_date', \n",
    "             y = 'nadac_per_unit',\n",
    "             hue = 'ndc_description',\n",
    "             data = highest_price_15_brand_only_drugs).set_title('Top 5 to 15 brand-only drug prices (by price) over time')\n",
    "plt.legend(loc = 'center left', bbox_to_anchor = (1, 0.5), ncol=1)\n"
   ]
  },
  {
   "cell_type": "code",
   "execution_count": null,
   "metadata": {},
   "outputs": [],
   "source": [
    "###  TO DO:  Plot brands with generic equivalent on top of generic approval date\n",
    "Price_Patent_Data.classification_for_rate_setting.value_counts()"
   ]
  },
  {
   "cell_type": "code",
   "execution_count": null,
   "metadata": {},
   "outputs": [],
   "source": [
    "# Look at brand drugs with therapeutic equivalents\n",
    "# consider looking specifically at these drugs when regressing for price\n",
    "\n",
    "all_drugs_with_te = Price_Patent_Data[Price_Patent_Data['classification_for_rate_setting'].str.contains('B', na=False)] #filter for brand only drugs\n",
    "\n",
    "brand_drugs_with_te = all_drugs_with_te[all_drugs_with_te['te_code'].notnull()] #with therapeutic equivalents\n",
    "brand_drugs_with_te = brand_drugs_with_te.groupby('ndc_description')\n",
    "brand_drugs_with_te.apply(lambda brand_drugs_with_te: brand_drugs_with_te.sort_values(by=['nadac_per_unit'], ascending = False)) #sort all values by price\n",
    "\n",
    "brand_drugs_with_te = brand_drugs_with_te['ndc_description'].unique()[:15].index.to_list() #convert the top 15 unique elements to a list\n",
    "brand_drugs_with_te"
   ]
  },
  {
   "cell_type": "code",
   "execution_count": null,
   "metadata": {},
   "outputs": [],
   "source": [
    "# Plot prices for the top 5:15 brand-name drugs over time (use list to filter)\n",
    "highest_price_15_drugs_with_te = Price_Patent_Data[Price_Patent_Data['ndc_description'].isin(brand_drugs_with_te)]\n",
    "\n",
    "fig = plt.figure(figsize = (12, 9))\n",
    "g = sns.lineplot(x = 'effective_date', \n",
    "             y = 'nadac_per_unit',\n",
    "             hue = 'ndc_description',\n",
    "             data = highest_price_15_drugs_with_te).set_title('Top 15 brand-name drug prices (with therapeutic equivalents) over time')\n",
    "plt.legend(loc = 'center left', bbox_to_anchor = (1, 0.5), ncol=1)\n",
    "g.set(ylim(0, 20))"
   ]
  },
  {
   "cell_type": "code",
   "execution_count": null,
   "metadata": {},
   "outputs": [],
   "source": [
    "# Create a correlation (heatmap) plot\n",
    "import numpy as np\n",
    "\n",
    "#Binarizing variables first would allow a comparison of more variables, however, I get a memory error if I try pd.get_dummies()\n",
    "\n",
    "corr = Price_Patent_Data.corr()\n",
    "mask = np.zeros_like(corr, dtype=np.bool)\n",
    "mask[np.triu_indices_from(mask)] = True\n",
    "f, ax = plt.subplots(figsize = (11, 9))\n",
    "cmap = sns.diverging_palette(240, 10, as_cmap = True)\n",
    "sns.heatmap(corr, mask = mask, cmap = cmap, vmax = 0.3, center = 0, square = True,  linewidths = 0.5, cbar_kws = {'shrink': 0.5})"
   ]
  },
  {
   "cell_type": "markdown",
   "metadata": {},
   "source": [
    "## __Original Plots__\n",
    "\n",
    "Plots pre-TDI"
   ]
  },
  {
   "cell_type": "markdown",
   "metadata": {},
   "source": [
    "### __Ibuprofen Prices over Time__\n",
    "In this case:\n",
    "* time == effective_date\n",
    "* price == nadac_per_unit"
   ]
  },
  {
   "cell_type": "code",
   "execution_count": null,
   "metadata": {},
   "outputs": [],
   "source": [
    "# Create a dataframe for Ibuprofen 200mg tablets\n",
    "ibuprofen_200mg_tab = Price_Patent_Data[Price_Patent_Data['ndc_description']=='IBUPROFEN 200MG TABLET']\n",
    "g = sns.scatterplot(x = ibuprofen_200mg_tab['effective_date'], y = ibuprofen_200mg_tab['nadac_per_unit'])\n",
    "plt.xlim('01/01/2016','01/01/2020')\n",
    "plt.ylim(0.0225, 0.0375)\n",
    "plt.xticks(rotation = 30)"
   ]
  },
  {
   "cell_type": "markdown",
   "metadata": {},
   "source": [
    "### __Ibuprofen Prices v. 'as_of_date'__\n",
    "This column is not in the data dictionary, but I believe it's a date corresponding to prices that's updated maybe more frequenly than the effective_date?"
   ]
  },
  {
   "cell_type": "code",
   "execution_count": null,
   "metadata": {},
   "outputs": [],
   "source": [
    "g = sns.scatterplot(x = ibuprofen_200mg_tab['as_of_date'], y = ibuprofen_200mg_tab['nadac_per_unit'])\n",
    "plt.xlim('01/01/2016','01/01/2020')\n",
    "plt.ylim(0.0225, 0.0375)\n",
    "plt.xticks(rotation=65)"
   ]
  },
  {
   "cell_type": "markdown",
   "metadata": {},
   "source": [
    "### __Prices for all Ibuprofen in Dataset v. Time__"
   ]
  },
  {
   "cell_type": "code",
   "execution_count": null,
   "metadata": {},
   "outputs": [],
   "source": [
    "ibuprofen_all = Price_Patent_Data[Price_Patent_Data['ingredient'].str.contains('IBUPROFEN', na=False)]\n",
    "g = sns.scatterplot(x = 'effective_date', y = 'nadac_per_unit', hue = ibuprofen_all.ndc_description, data = ibuprofen_all)\n",
    "# plt.xlim('01/01/2014','01/01/2020')\n",
    "plt.ylim(0.02, 0.1)\n",
    "plt.xlim('2016-01-01', '2021-01-01')\n",
    "g.legend(loc = 'center left', bbox_to_anchor = (1, 0.5), ncol=1)\n"
   ]
  },
  {
   "cell_type": "markdown",
   "metadata": {},
   "source": [
    "### __Cost of Metformin v. Time__\n",
    "\n",
    "Multiple varieties of metformin displayed here"
   ]
  },
  {
   "cell_type": "code",
   "execution_count": null,
   "metadata": {},
   "outputs": [],
   "source": [
    "metformin = Price_Patent_Data[Price_Patent_Data['ndc_description'].str.contains('METFORMIN', na = False)]\n",
    "g = sns.scatterplot(x = metformin['effective_date'], y = metformin['nadac_per_unit'])\n",
    "plt.xlim('01/01/2013','01/01/2020')"
   ]
  },
  {
   "cell_type": "code",
   "execution_count": null,
   "metadata": {},
   "outputs": [],
   "source": [
    "# Varieties of metformin in dataset\n",
    "metformin['ndc_description'].value_counts()"
   ]
  },
  {
   "cell_type": "markdown",
   "metadata": {},
   "source": [
    "### __Price of Lisinopril over Time__\n",
    "Multiple varieties of lisinopril displayed here"
   ]
  },
  {
   "cell_type": "code",
   "execution_count": null,
   "metadata": {},
   "outputs": [],
   "source": [
    "Price_Patent_Data = Price_Patent_Data[Price_Patent_Data['ndc_description'].notnull()]\n",
    "Price_Patent_Data['ndc_description'].isnull().value_counts(dropna = False)"
   ]
  },
  {
   "cell_type": "code",
   "execution_count": null,
   "metadata": {},
   "outputs": [],
   "source": [
    "lisinopril = Price_Patent_Data[Price_Patent_Data['ndc_description'].str.contains('LISINOPRIL')]\n",
    "g = sns.scatterplot(x = lisinopril['effective_date'], y = lisinopril['nadac_per_unit']).set(xlim=('01/01/2016','01/01/2020'))"
   ]
  },
  {
   "cell_type": "markdown",
   "metadata": {},
   "source": [
    "### __Price of Prinivil over Time__\n",
    "Multiple varieties of prinivil displayed here"
   ]
  },
  {
   "cell_type": "code",
   "execution_count": null,
   "metadata": {},
   "outputs": [],
   "source": [
    "prinivil = Price_Patent_Data[Price_Patent_Data['ndc_description'].str.contains('PRINIVIL')]\n",
    "g = sns.scatterplot(x = prinivil['effective_date'], y = prinivil['nadac_per_unit'])"
   ]
  },
  {
   "cell_type": "markdown",
   "metadata": {},
   "source": [
    "### __Price of Simvastatin over Time__\n",
    "Multiple varieties of simvastatin displayed here"
   ]
  },
  {
   "cell_type": "code",
   "execution_count": null,
   "metadata": {},
   "outputs": [],
   "source": [
    "simvastatin  = Price_Patent_Data[Price_Patent_Data['ndc_description'].str.contains('SIMVASTATIN')]\n",
    "g = sns.scatterplot(x = simvastatin['effective_date'], y = simvastatin['nadac_per_unit']).set(xlim=('01/01/2016','01/01/2020'))"
   ]
  },
  {
   "cell_type": "code",
   "execution_count": null,
   "metadata": {},
   "outputs": [],
   "source": [
    "#Observations in dataset for 'SIMVASTATIN'\n",
    "Price_Patent_Data['ndc_description'].str.contains('SIMVASTATIN').value_counts(dropna = False)"
   ]
  },
  {
   "cell_type": "markdown",
   "metadata": {},
   "source": [
    "### __Price of Zocor over Time__\n",
    "Multiple varieties of zocor displayed here"
   ]
  },
  {
   "cell_type": "code",
   "execution_count": null,
   "metadata": {},
   "outputs": [],
   "source": [
    "zocor  = Price_Patent_Data[Price_Patent_Data['ndc_description'].str.contains('ZOCOR')]\n",
    "g = sns.scatterplot(x = zocor['effective_date'], y = zocor['nadac_per_unit'])"
   ]
  },
  {
   "cell_type": "code",
   "execution_count": null,
   "metadata": {},
   "outputs": [],
   "source": [
    "#Observations in dataset for 'ZOCOR'\n",
    "Price_Patent_Data['ndc_description'].str.contains('ZOCOR').value_counts(dropna = False)"
   ]
  },
  {
   "cell_type": "markdown",
   "metadata": {},
   "source": [
    "### __Price of Ambien over Time__\n",
    "Multiple varieties of ambien displayed here"
   ]
  },
  {
   "cell_type": "code",
   "execution_count": null,
   "metadata": {},
   "outputs": [],
   "source": [
    "# Price of Ambien over time (no generic equivalent)\n",
    "ambien  = Price_Patent_Data[Price_Patent_Data['ndc_description'].str.contains('AMBIEN')]\n",
    "sns.scatterplot(x = ambien['effective_date'], y = ambien['nadac_per_unit'], hue = ambien['classification_for_rate_setting']).set(xlim=('01/01/2016','01/01/2020'))"
   ]
  },
  {
   "cell_type": "code",
   "execution_count": null,
   "metadata": {},
   "outputs": [],
   "source": [
    "sns.scatterplot(x = ambien['corresponding_generic_drug_effective_date'], y = ambien['corresponding_generic_drug_nadac_per_unit'])\n",
    "plt.xlim('01/01/2014','01/01/2020')"
   ]
  },
  {
   "cell_type": "code",
   "execution_count": null,
   "metadata": {},
   "outputs": [],
   "source": [
    "brands_with_generics = Price_Patent_Data[Price_Patent_Data['corresponding_generic_drug_nadac_per_unit'].notnull()]\n",
    "brands_with_generics.head()"
   ]
  },
  {
   "cell_type": "code",
   "execution_count": null,
   "metadata": {},
   "outputs": [],
   "source": [
    "brands_with_generics.info()"
   ]
  },
  {
   "cell_type": "markdown",
   "metadata": {},
   "source": [
    "## __Brands with Generics__"
   ]
  },
  {
   "cell_type": "markdown",
   "metadata": {},
   "source": [
    "### __Nicorette__"
   ]
  },
  {
   "cell_type": "code",
   "execution_count": null,
   "metadata": {},
   "outputs": [],
   "source": [
    "#We see a very clear clustering here.  Look at labeling these drugs with different colors and a legend to better tell what's going on.\n",
    "brands_with_generics_nicorette = brands_with_generics[Price_Patent_Data['ndc_description'].str.contains('NICORETTE')]\n",
    "g = sns.scatterplot(x = brands_with_generics_nicorette['effective_date'], y = brands_with_generics_nicorette['corresponding_generic_drug_nadac_per_unit']).set(xlim=('01/01/2016','01/01/2020'))"
   ]
  },
  {
   "cell_type": "markdown",
   "metadata": {},
   "source": [
    "#### __Ambien__"
   ]
  },
  {
   "cell_type": "code",
   "execution_count": null,
   "metadata": {},
   "outputs": [],
   "source": [
    "ambien  = Price_Patent_Data[Price_Patent_Data['ndc_description'].str.contains('AMBIEN')]\n",
    "sns.scatterplot(x = ambien['corresponding_generic_drug_effective_date'], y = ambien['corresponding_generic_drug_nadac_per_unit'])\n",
    "sns.scatterplot(x = ambien['effective_date'], y = ambien['nadac_per_unit'])\n",
    "plt.xlim('01/06/2016','01/01/2020')"
   ]
  },
  {
   "cell_type": "code",
   "execution_count": null,
   "metadata": {},
   "outputs": [],
   "source": [
    "# Looking at more generic vs. brands\n",
    "ambien_generic = Price_Patent_Data[Price_Patent_Data['ndc_description'].str.contains('ZOLPIDEM')]\n",
    "ambien_generic['ndc_description'].value_counts()"
   ]
  },
  {
   "cell_type": "code",
   "execution_count": null,
   "metadata": {},
   "outputs": [],
   "source": [
    "ambien_brand = Price_Patent_Data[Price_Patent_Data['ndc_description'].str.contains('AMBIEN')]\n",
    "ambien_brand['ndc_description'].value_counts()"
   ]
  },
  {
   "cell_type": "code",
   "execution_count": null,
   "metadata": {},
   "outputs": [],
   "source": [
    "ambien_patent = ambien_brand[ambien_brand['approval_date'].notnull()]\n",
    "ambien_patent['approval_date'].head()"
   ]
  },
  {
   "cell_type": "code",
   "execution_count": null,
   "metadata": {},
   "outputs": [],
   "source": [
    "sns.lineplot(x = 'effective_date', y = 'nadac_per_unit', data = ambien_generic)\n",
    "sns.lineplot(x = 'effective_date', y = 'nadac_per_unit', data = ambien_brand)"
   ]
  }
 ],
 "metadata": {
  "kernelspec": {
   "display_name": "Python 3",
   "language": "python",
   "name": "python3"
  },
  "language_info": {
   "codemirror_mode": {
    "name": "ipython",
    "version": 3
   },
   "file_extension": ".py",
   "mimetype": "text/x-python",
   "name": "python",
   "nbconvert_exporter": "python",
   "pygments_lexer": "ipython3",
   "version": "3.9.0"
  }
 },
 "nbformat": 4,
 "nbformat_minor": 4
}
