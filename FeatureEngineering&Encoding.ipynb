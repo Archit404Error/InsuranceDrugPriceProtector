{
 "cells": [
  {
   "cell_type": "markdown",
   "metadata": {},
   "source": [
    "# __Feature Engineering & Encoding__\n",
    "\n",
    "* Delete all date & name columns (and any other unnecessary columns)\n",
    "* Create 'days_to_patent_expiry' column\n",
    "* Combine data in several categorical columns (i.e. te_code)\n",
    "* One-hot encode all categorical data"
   ]
  },
  {
   "cell_type": "code",
   "execution_count": 107,
   "metadata": {},
   "outputs": [],
   "source": [
    "import pandas as pd\n",
    "import numpy as np\n",
    "import datetime as dt"
   ]
  },
  {
   "cell_type": "code",
   "execution_count": 108,
   "metadata": {},
   "outputs": [],
   "source": [
    "# Unpickle Top 100 drugs file\n",
    "import dill\n",
    "Price_Patent_Data = dill.load(open('data/top_100_drugs.pkd', 'rb'))"
   ]
  },
  {
   "cell_type": "code",
   "execution_count": 109,
   "metadata": {},
   "outputs": [],
   "source": [
    "Price_Patent_Data.drop('submission_date', axis = 1, inplace = True) # Submission_date isn't diverse enough to be useful"
   ]
  },
  {
   "cell_type": "code",
   "execution_count": 110,
   "metadata": {},
   "outputs": [],
   "source": [
    "#Convert all to datetimes - not needed if unpickling\n",
    "Price_Patent_Data['effective_date'] = pd.to_datetime(Price_Patent_Data['effective_date'])\n",
    "Price_Patent_Data['corresponding_generic_drug_effective_date'] = pd.to_datetime(Price_Patent_Data['corresponding_generic_drug_effective_date'])\n",
    "Price_Patent_Data['approval_date'] = pd.to_datetime(Price_Patent_Data['approval_date'])\n",
    "Price_Patent_Data['patent_expire_date_text'] = pd.to_datetime(Price_Patent_Data['patent_expire_date_text'])\n",
    "# Price_Patent_Data['submission_date'] = pd.to_datetime(Price_Patent_Data['submission_date'])\n",
    "# Price_Patent_Data['exclusivity_date'] = pd.to_datetime(Price_Patent_Data['exclusivity_date'])"
   ]
  },
  {
   "cell_type": "markdown",
   "metadata": {},
   "source": [
    "### __Drop ndc_description__\n",
    "Duplicate information found in drug_names, strength, route, and other columns"
   ]
  },
  {
   "cell_type": "code",
   "execution_count": 111,
   "metadata": {},
   "outputs": [
    {
     "name": "stdout",
     "output_type": "stream",
     "text": [
      "<class 'pandas.core.frame.DataFrame'>\n",
      "Int64Index: 214082 entries, 68472 to 6411864\n",
      "Data columns (total 17 columns):\n",
      "nadac_per_unit                               214082 non-null float64\n",
      "drug_names                                   214082 non-null object\n",
      "ndc                                          214082 non-null float64\n",
      "effective_date                               214082 non-null datetime64[ns]\n",
      "classification_for_rate_setting              214082 non-null object\n",
      "corresponding_generic_drug_effective_date    214082 non-null datetime64[ns]\n",
      "corresponding_generic_drug_nadac_per_unit    214082 non-null float64\n",
      "otc                                          214082 non-null object\n",
      "approval_date                                132995 non-null datetime64[ns]\n",
      "patent_expire_date_text                      2195 non-null datetime64[ns]\n",
      "pricing_unit                                 214082 non-null object\n",
      "ingredient                                   132995 non-null object\n",
      "applicant                                    132995 non-null object\n",
      "te_code                                      125918 non-null object\n",
      "type                                         132995 non-null object\n",
      "dosage_form                                  132995 non-null object\n",
      "route                                        132995 non-null object\n",
      "dtypes: datetime64[ns](4), float64(3), object(10)\n",
      "memory usage: 29.4+ MB\n"
     ]
    }
   ],
   "source": [
    "Price_Patent_Data.drop_duplicates(keep = 'first', inplace = True)\n",
    "Price_Patent_Data.info()"
   ]
  },
  {
   "cell_type": "markdown",
   "metadata": {},
   "source": [
    "### __Create features__\n",
    "\n",
    "i.e. If a drug has a generic equivalent (i.e. a classification_for_rate_setting value of 'G', and a te_code of 'A')...see notes"
   ]
  },
  {
   "cell_type": "code",
   "execution_count": 112,
   "metadata": {},
   "outputs": [],
   "source": [
    "# Function combining all feature engineerings\n",
    "\n",
    "def create_features(df):\n",
    "    import re\n",
    "    # Create days_before_patent_expires feature\n",
    "    df['days_before_patent_expires'] = (df['patent_expire_date_text'] - df['approval_date']).astype('timedelta64[D]')\n",
    "\n",
    "    # Create drug_age feature\n",
    "    df['drug_age'] = df.groupby(['ndc'])['approval_date'].transform(lambda x: dt.date.today() - x.min().date()).astype('m8[ns]')/np.timedelta64(1, 'D')\n",
    "\n",
    "    # Drop two datetime columns now that we're done with them\n",
    "    df.drop(columns = ['approval_date', 'patent_expire_date_text'], inplace = True)\n",
    "\n",
    "    # Combine te_code categories\n",
    "    df['te_code'] = df['te_code'].str.replace(r\"(^A.*)\", \"A\", regex = True)\n",
    "    df['te_code'] = df['te_code'].str.replace(r\"(^B.*)\", \"B\", regex = True)\n",
    "    df.te_code.value_counts(dropna = False)\n",
    "\n",
    "    # Combine classifications listed in classification_for_rate_setting feature\n",
    "    df['classification_for_rate_setting'] = df['classification_for_rate_setting'].str.replace(r\"(^B.*)\", \"B\", regex = True)\n",
    "    df['classification_for_rate_setting'].value_counts(dropna = False)\n",
    "\n",
    "    # Simplify exclusivity_code - Delete everything after the dash\n",
    "#     df['exclusivity_code'] = df['exclusivity_code'].str.replace(r\"(.*)-.*\", '\\\\1', regex = True)\n",
    "#     df.exclusivity_code.value_counts(dropna = False)\n",
    "\n",
    "    # Aggregate values in dosage_form feature with less than 1000 counts\n",
    "    df.loc[df.groupby('dosage_form').dosage_form.transform('count').lt(1000), 'dosage_form'] = 'OTHER'\n",
    "    df['dosage_form'].value_counts(dropna = False)\n",
    "\n",
    "    # Aggregate values in route feature with less than 100 counts\n",
    "    df.loc[df.groupby('route').dosage_form.transform('count').lt(100), 'route'] = 'OTHER'\n",
    "    df['route'].value_counts(dropna = False)\n",
    "    \n",
    "    # Correct the corresponding_generic_drug_effective_date and corresponding_generic_drug_nadac_per_unit data (generics can't have data in these columns)\n",
    "    df.loc[df.classification_for_rate_setting == 'G', ['corresponding_generic_drug_effective_date', 'corresponding_generic_drug_nadac_per_unit']] = pd.NaT, np.NaN\n",
    "\n",
    "    # Create a new generic_exists column\n",
    "    df['generic_exists'] = np.where((df['classification_for_rate_setting'] == 'B') & (df['corresponding_generic_drug_nadac_per_unit'].notnull()), 1, 0)  \n",
    "    df['generic_exists'].value_counts(dropna = False)"
   ]
  },
  {
   "cell_type": "code",
   "execution_count": 113,
   "metadata": {},
   "outputs": [],
   "source": [
    "create_features(Price_Patent_Data)"
   ]
  },
  {
   "cell_type": "markdown",
   "metadata": {},
   "source": [
    "### __Convert dates to day, month, year columns__\n",
    "\n",
    "(for one-hot encoding later)"
   ]
  },
  {
   "cell_type": "code",
   "execution_count": 114,
   "metadata": {},
   "outputs": [],
   "source": [
    "# Convert effective_date column values\n",
    "Price_Patent_Data['effective_date_year'] = (Price_Patent_Data['effective_date'].dt.year).astype('float16')\n",
    "Price_Patent_Data['effective_date_month'] = (Price_Patent_Data['effective_date'].dt.month).astype('float16')\n",
    "Price_Patent_Data['effective_date_day'] = (Price_Patent_Data['effective_date'].dt.day).astype('float16')\n",
    "\n",
    "# Convert corresponding_generic_drug_effective_date column values\n",
    "Price_Patent_Data['corresponding_generic_drug_effective_year'] = (Price_Patent_Data['corresponding_generic_drug_effective_date'].dt.year).astype('float16')\n",
    "Price_Patent_Data['corresponding_generic_drug_effective_month'] = (Price_Patent_Data['corresponding_generic_drug_effective_date'].dt.month).astype('float16')\n",
    "Price_Patent_Data['corresponding_generic_drug_effective_day'] = (Price_Patent_Data['corresponding_generic_drug_effective_date'].dt.day).astype('float16')\n",
    "\n",
    "# Drop both original columns\n",
    "Price_Patent_Data.drop(['effective_date', 'corresponding_generic_drug_effective_date'], axis = 1, inplace = True)"
   ]
  },
  {
   "cell_type": "markdown",
   "metadata": {},
   "source": [
    "### __Fix column data types__"
   ]
  },
  {
   "cell_type": "code",
   "execution_count": 115,
   "metadata": {},
   "outputs": [],
   "source": [
    "Price_Patent_Data[[\n",
    "                   'nadac_per_unit', \n",
    "                   'corresponding_generic_drug_nadac_per_unit', \n",
    "                   'days_before_patent_expires',\n",
    "                   'drug_age',\n",
    "                   'ndc', \n",
    "                   ]] = Price_Patent_Data[['nadac_per_unit', 'corresponding_generic_drug_nadac_per_unit', 'days_before_patent_expires', 'drug_age', 'ndc']].astype('float32')"
   ]
  },
  {
   "cell_type": "code",
   "execution_count": 116,
   "metadata": {},
   "outputs": [],
   "source": [
    "# Drop drug_names (carry on with 'ndc')\n",
    "Price_Patent_Data.drop('drug_names', axis = 1, inplace = True)"
   ]
  },
  {
   "cell_type": "code",
   "execution_count": 117,
   "metadata": {},
   "outputs": [
    {
     "name": "stdout",
     "output_type": "stream",
     "text": [
      "<class 'pandas.core.frame.DataFrame'>\n",
      "Int64Index: 214082 entries, 68472 to 6411864\n",
      "Data columns (total 21 columns):\n",
      "nadac_per_unit                                214082 non-null float32\n",
      "ndc                                           214082 non-null float32\n",
      "classification_for_rate_setting               214082 non-null object\n",
      "corresponding_generic_drug_nadac_per_unit     2402 non-null float32\n",
      "otc                                           214082 non-null object\n",
      "pricing_unit                                  214082 non-null object\n",
      "ingredient                                    132995 non-null object\n",
      "applicant                                     132995 non-null object\n",
      "te_code                                       125918 non-null object\n",
      "type                                          132995 non-null object\n",
      "dosage_form                                   132995 non-null object\n",
      "route                                         132995 non-null object\n",
      "days_before_patent_expires                    2195 non-null float32\n",
      "drug_age                                      197058 non-null float32\n",
      "generic_exists                                214082 non-null int32\n",
      "effective_date_year                           214082 non-null float16\n",
      "effective_date_month                          214082 non-null float16\n",
      "effective_date_day                            214082 non-null float16\n",
      "corresponding_generic_drug_effective_year     2402 non-null float16\n",
      "corresponding_generic_drug_effective_month    2402 non-null float16\n",
      "corresponding_generic_drug_effective_day      2402 non-null float16\n",
      "dtypes: float16(6), float32(5), int32(1), object(9)\n",
      "memory usage: 23.7+ MB\n"
     ]
    }
   ],
   "source": [
    "# Drop rows without a nadac_per_unit (price)\n",
    "Price_Patent_Data = Price_Patent_Data[Price_Patent_Data.nadac_per_unit > 0]\n",
    "Price_Patent_Data.info()"
   ]
  },
  {
   "cell_type": "markdown",
   "metadata": {},
   "source": [
    "### __Drop unneeded columns__\n",
    "Dropping several columns that have low amounts of data (you have to go back to previous notebooks to see this is the case), or have a weak theoretical basis for being included."
   ]
  },
  {
   "cell_type": "code",
   "execution_count": 118,
   "metadata": {},
   "outputs": [],
   "source": [
    "Price_Patent_Reg = Price_Patent_Data.drop([\n",
    "                                         'drug_age',\n",
    "#                                          'effective_date_year',\n",
    "#                                          'effective_date_month',\n",
    "#                                          'effective_date_day',\n",
    "                                         'classification_for_rate_setting',\n",
    "                                         'corresponding_generic_drug_nadac_per_unit',\n",
    "                                         'pricing_unit',\n",
    "                                         'ingredient',\n",
    "                                         'applicant',\n",
    "#                                          'otc',\n",
    "                                         'type',\n",
    "#                                          'dosage_form',\n",
    "                                         'route',\n",
    "                                         ], axis = 1)"
   ]
  },
  {
   "cell_type": "markdown",
   "metadata": {},
   "source": [
    "### __Create dummies for the following columns:__\n",
    "\n",
    "* One-hot encode in the sklearn pipline later (instead of doing this now)"
   ]
  },
  {
   "cell_type": "code",
   "execution_count": 119,
   "metadata": {},
   "outputs": [
    {
     "name": "stdout",
     "output_type": "stream",
     "text": [
      "<class 'pandas.core.frame.DataFrame'>\n",
      "Int64Index: 214082 entries, 68472 to 6411864\n",
      "Data columns (total 15 columns):\n",
      "nadac_per_unit                                214082 non-null float32\n",
      "ndc                                           214082 non-null float32\n",
      "days_before_patent_expires                    2195 non-null float32\n",
      "generic_exists                                214082 non-null int32\n",
      "effective_date_year                           214082 non-null float16\n",
      "effective_date_month                          214082 non-null float16\n",
      "effective_date_day                            214082 non-null float16\n",
      "corresponding_generic_drug_effective_year     2402 non-null float16\n",
      "corresponding_generic_drug_effective_month    2402 non-null float16\n",
      "corresponding_generic_drug_effective_day      2402 non-null float16\n",
      "dosage_form_SPRAY                             214082 non-null uint8\n",
      "dosage_form_TABLET                            214082 non-null uint8\n",
      "dosage_form_TABLET, CHEWABLE                  214082 non-null uint8\n",
      "dosage_form_TABLET, EXTENDED RELEASE          214082 non-null uint8\n",
      "dosage_form_TABLET, ORALLY DISINTEGRATING     214082 non-null uint8\n",
      "dtypes: float16(6), float32(3), int32(1), uint8(5)\n",
      "memory usage: 8.4 MB\n"
     ]
    }
   ],
   "source": [
    "# Replace columns above with binary versions (including ndc_description)\n",
    "Price_Patent_Reg = pd.get_dummies(data = Price_Patent_Reg, drop_first = True, columns = [\n",
    "                                                                                        'otc',\n",
    "                                                                                        'te_code',\n",
    "                                                                                        'dosage_form', \n",
    "                                                                                        ])\n",
    "Price_Patent_Reg.info(verbose = True, null_counts = True)"
   ]
  },
  {
   "cell_type": "markdown",
   "metadata": {},
   "source": [
    "### __Fill NaNs, update dtypes?__"
   ]
  },
  {
   "cell_type": "code",
   "execution_count": 120,
   "metadata": {},
   "outputs": [],
   "source": [
    "# Fill NaNs with zeros (research better alternative)\n",
    "Price_Patent_Reg.fillna(0, inplace = True) "
   ]
  },
  {
   "cell_type": "markdown",
   "metadata": {},
   "source": [
    "### __Pickle__"
   ]
  },
  {
   "cell_type": "code",
   "execution_count": 121,
   "metadata": {},
   "outputs": [],
   "source": [
    "# Pickle data\n",
    "dill.dump(Price_Patent_Reg, open('data/features_created.pkd', 'wb'))"
   ]
  },
  {
   "cell_type": "code",
   "execution_count": 122,
   "metadata": {},
   "outputs": [],
   "source": [
    "# Save as CSV - create dummy variables and sparse matrix in Regressions notebook\n",
    "Price_Patent_Reg.to_csv('data/Price_Patent_Reg.csv')"
   ]
  },
  {
   "cell_type": "code",
   "execution_count": null,
   "metadata": {},
   "outputs": [],
   "source": []
  }
 ],
 "metadata": {
  "kernelspec": {
   "display_name": "Python 3",
   "language": "python",
   "name": "python3"
  },
  "language_info": {
   "codemirror_mode": {
    "name": "ipython",
    "version": 3
   },
   "file_extension": ".py",
   "mimetype": "text/x-python",
   "name": "python",
   "nbconvert_exporter": "python",
   "pygments_lexer": "ipython3",
   "version": "3.7.4"
  }
 },
 "nbformat": 4,
 "nbformat_minor": 4
}
